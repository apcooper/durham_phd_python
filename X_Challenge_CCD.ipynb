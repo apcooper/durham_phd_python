{
 "cells": [
  {
   "cell_type": "markdown",
   "metadata": {},
   "source": [
    "# CCD Image Challenge"
   ]
  },
  {
   "cell_type": "markdown",
   "metadata": {},
   "source": [
    "This challenge is about writing a complete program to create a reasonably sophisticated plot with `matplotlib` using data randomly generated with `numpy`. It uses ideas from all of the notebooks plus some basic further investigation of the `numpy` and `matplotlib` documentation.\n",
    "\n",
    "Here is a table:\n",
    "```\n",
    "# Name  X       Y       counts     sigma (pixels)\n",
    "star    40      38      1e3         2\n",
    "star    50      80      1e4         2\n",
    "star    13.5    70      2e4         4\n",
    "star    80      22.3    5e5         3\n",
    "```\n",
    "\n",
    "Copy this data verbatim (including the # and the linebreaks) into a file called `challenge_data.txt`, or if you're working in a Jupyter notebook, write a cell to create this file with Python.\n",
    "\n",
    "Each row in the table describes the image of a 'star' on a CCD with (NX,NY) = 100x100 pixels. These images are formed by counting individual photons, given by the 'counts' column (by the way, there is no optics, physics or real photon statistics in this problem at all). \n",
    "\n",
    "The distribution of counts for each source is described by a Gaussian kernel around the point X,Y (in pixel coordinates, with 0,0 at the bottom left) with a dispersion given by the `sigma` column, in units of the CCD pixels.\n",
    "\n",
    "As well as these 'star' images, the image should have a background of Poisson noise with a mean of 10 counts/pixel.\n",
    "\n",
    "**Challenge:** Write a program, `ccd.py`, that reads this table from the file `challenge_data.txt`, reports the total counts across the whole CCD and maximum count in a single pixel, and produces the following image of the CCD with the four stars on it, in `.png` format. The result should be *as close as possible* to the following. **Note the the colour scale is showing the logarithm (base 10) of the counts.**\n",
    "\n",
    "```bash\n",
    "> python ccd.py challenge_data.txt\n",
    "```"
   ]
  },
  {
   "cell_type": "markdown",
   "metadata": {},
   "source": [
    "![Challenge Image](./challenge.png)"
   ]
  },
  {
   "cell_type": "markdown",
   "metadata": {},
   "source": [
    "```\n",
    "Total counts:  6.311420e+05\n",
    "Maximum count: 8.714000e+03\n",
    "Wrote output to: /Users/andrew/python/tutorial2016/python-durham2017/examples/challenge.png\n",
    "```\n",
    "\n",
    "You will probably need the following:\n",
    "\n",
    "- `numpy.histogram2d`\n",
    "- `matplotlib.pyplot.imshow`\n",
    "- A function (from `numpy`) to draw randomly from a 2D Gaussian distribution.\n",
    "- A similar function to draw from a Poisson distribution.\n",
    "- A `colorbar` (note the size of the colorbar relative to the plot in the example)\n",
    "\n",
    "The *colormap* is **viridis**. What is special about this colormap?\n",
    "\n",
    "The image should look the same if you make it twice.\n",
    "\n",
    "The orientation of the CCD might prove tricky. Read the documentation of `imshow` carefully."
   ]
  },
  {
   "cell_type": "code",
   "execution_count": null,
   "metadata": {
    "collapsed": true
   },
   "outputs": [],
   "source": []
  }
 ],
 "metadata": {
  "kernelspec": {
   "display_name": "Python 3",
   "language": "python",
   "name": "python3"
  },
  "language_info": {
   "codemirror_mode": {
    "name": "ipython",
    "version": 3
   },
   "file_extension": ".py",
   "mimetype": "text/x-python",
   "name": "python",
   "nbconvert_exporter": "python",
   "pygments_lexer": "ipython3",
   "version": "3.6.1"
  }
 },
 "nbformat": 4,
 "nbformat_minor": 2
}
