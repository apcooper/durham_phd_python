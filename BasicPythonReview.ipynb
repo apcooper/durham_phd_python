{
 "cells": [
  {
   "cell_type": "markdown",
   "metadata": {},
   "source": [
    "# Basic Python Review"
   ]
  },
  {
   "cell_type": "markdown",
   "metadata": {},
   "source": [
    "This notebook introduces the most basic features of Python.\n",
    "\n",
    "First a bit more orientation:\n",
    "* Get familiar with Jupyter and practice basic maths at the Python interactive prompt.\n",
    "* See how to write comments (and be warned that this is super-important).\n",
    "* See what happens when your Python code has errors.\n",
    "* Understand the print() command a bit more.\n",
    "\n",
    "Then the serious stuff:\n",
    "* How variables work\n",
    "* How to manipulate text ('strings') \n",
    "* What the special value `None` is (this is important)\n",
    "* How boolean logic works\n",
    "* How to write conditional expressions (`if...else`)\n",
    "* How `while` loops work\n",
    "\n",
    "This assumes you have done some programming before and are familiar with ideas like integer and floating point representations of numbers."
   ]
  },
  {
   "cell_type": "markdown",
   "metadata": {},
   "source": [
    "**A word of warning as you go through the notebook:** some of the cells use variables defined in earlier cells, so if something doesn't work (unless the text *says* it shouldn't work) then it might be that you haven't run those earlier cells."
   ]
  },
  {
   "cell_type": "markdown",
   "metadata": {},
   "source": [
    "## Maths at the interactive prompt"
   ]
  },
  {
   "cell_type": "markdown",
   "metadata": {},
   "source": [
    "Typing stuff at the interactive prompt in IPython usually has a simple and intuitive result. Since it can evaluate any maths expression that you can write in Python, you can use it as a handy calculator.\n",
    "\n",
    "The following cells show some simple examples -- most of them have an extra take-away point about how numbers work in Python. Most of these ideas should be familiar if you've ever used Python or any other programming language before. \n",
    "\n",
    "These cells also illustrate another important point. Python has ***dynamic typing***, so most of the time you don't have to worry about how numbers are encoded in memory, or how much memory is used to store them. Don't get too comfortable with that idea though -- we'll see later that, for serious numerical work, we have to give up some of that flexibility. "
   ]
  },
  {
   "cell_type": "code",
   "execution_count": null,
   "metadata": {},
   "outputs": [],
   "source": [
    "# Add integers, get an integer\n",
    "1 + 1"
   ]
  },
  {
   "cell_type": "code",
   "execution_count": null,
   "metadata": {},
   "outputs": [],
   "source": [
    "# Add floating point value, get a floating point value (no need to worry about precision)\n",
    "1.0 + 1.0"
   ]
  },
  {
   "cell_type": "code",
   "execution_count": null,
   "metadata": {},
   "outputs": [],
   "source": [
    "# Add an integer to a float, get a float\n",
    "1.0 + 2"
   ]
  },
  {
   "cell_type": "code",
   "execution_count": null,
   "metadata": {},
   "outputs": [],
   "source": [
    "# All the same ideas applies to multiplication, obviously enough.\n",
    "5*2.0"
   ]
  },
  {
   "cell_type": "code",
   "execution_count": null,
   "metadata": {},
   "outputs": [],
   "source": [
    "# Raising something to a power\n",
    "3 ** 4"
   ]
  },
  {
   "cell_type": "code",
   "execution_count": null,
   "metadata": {},
   "outputs": [],
   "source": [
    "# Very big numbers are OK (but we'll see below that this doesn't hold for serious numerical work).\n",
    "# Note the L on the end of the result.\n",
    "(2**22)**22"
   ]
  },
  {
   "cell_type": "code",
   "execution_count": null,
   "metadata": {},
   "outputs": [],
   "source": [
    "# You can write numbers with 'scientific notation' too:\n",
    "1.1e12"
   ]
  },
  {
   "cell_type": "code",
   "execution_count": null,
   "metadata": {
    "collapsed": true
   },
   "outputs": [],
   "source": [
    "# By the way, the lines starting with # are Python comments: they are ignored by the interpreter. \n",
    "# You should write comments in your own code to explain to yourself and other people\n",
    "# how your code works. Writing good comments in the right places is a very fundamental\n",
    "# skill of programming -- do not underestimate how important it is. "
   ]
  },
  {
   "cell_type": "markdown",
   "metadata": {},
   "source": [
    "Python is very forgiving about variable types (i.e. how the variable is stored as bits in the computer's memory). You can check the type of anything explicitly if you want, using the built-in function `type()`, **but you rarely need to**. "
   ]
  },
  {
   "cell_type": "code",
   "execution_count": null,
   "metadata": {},
   "outputs": [],
   "source": [
    "type(1)"
   ]
  },
  {
   "cell_type": "code",
   "execution_count": null,
   "metadata": {},
   "outputs": [],
   "source": [
    "type(1.0)"
   ]
  },
  {
   "cell_type": "code",
   "execution_count": null,
   "metadata": {},
   "outputs": [],
   "source": [
    "type((2**22)**6)"
   ]
  },
  {
   "cell_type": "code",
   "execution_count": null,
   "metadata": {},
   "outputs": [],
   "source": [
    "# You can also explicitly force variables to be interpreted as a specific type (known as 'casting')\n",
    "float(1)/float(2)"
   ]
  },
  {
   "cell_type": "markdown",
   "metadata": {},
   "source": [
    "**Tip:** if you find yourself using `type()` in actual code, rather than testing and debugging, you are probably not solving the problem in a 'Pythonic' way. Python tries to avoid explicitly caring about the type of variables."
   ]
  },
  {
   "cell_type": "markdown",
   "metadata": {},
   "source": [
    "**Statement of the obvious:** `type` is a **function** -- as in maths, you write the name of a function followed by brackets enclosing the arguments of a function, which tells Python to evaluate that function and return a result. So `y = f(x)` assigns the result of `f(x)` to the variable `y`."
   ]
  },
  {
   "cell_type": "markdown",
   "metadata": {},
   "source": [
    "Back to arithmetic. Division is more subtle than the operations above. The result of the next expression is different in Python 2 (where dividing an integer by an integer results in integer division) and Python 3 (where it results in floating point division)."
   ]
  },
  {
   "cell_type": "code",
   "execution_count": null,
   "metadata": {
    "nbpresent": {
     "id": "ef34df18-a3f8-4939-9945-b6c2a4fa6c72"
    }
   },
   "outputs": [],
   "source": [
    "8 / 3"
   ]
  },
  {
   "cell_type": "code",
   "execution_count": null,
   "metadata": {},
   "outputs": [],
   "source": [
    "8/3.0 # Identical to the cell above in Python 3, but not in Python 2"
   ]
  },
  {
   "cell_type": "markdown",
   "metadata": {},
   "source": [
    "I always try to make sure I cast the denominators of fractions to floats explicitly (using `float()` or writing them with a `.0` on the end), but it's easy to forget, leading to bugs."
   ]
  },
  {
   "cell_type": "markdown",
   "metadata": {},
   "source": [
    "**Tip:** In python2 code you will often see the line\n",
    "```python\n",
    "from __future__ import division\n",
    "```\n",
    "at the top of the file.  This makes the python3 behaviour the default in python2. For now, there's no need to worry about this. "
   ]
  },
  {
   "cell_type": "code",
   "execution_count": null,
   "metadata": {},
   "outputs": [],
   "source": [
    "# If you want to make it clear you actually want integer division (rounding down)\n",
    "8 // 3"
   ]
  },
  {
   "cell_type": "markdown",
   "metadata": {},
   "source": [
    "That's it -- not much more to say about arithmetic operators. Except maybe for modulo..."
   ]
  },
  {
   "cell_type": "code",
   "execution_count": null,
   "metadata": {
    "nbpresent": {
     "id": "d41e1984-ee5a-48fd-ae9f-31367a8c1f3a"
    }
   },
   "outputs": [],
   "source": [
    "# Modulo (remainder of division) -- it's useful sometimes, really!\n",
    "42 % 12"
   ]
  },
  {
   "cell_type": "markdown",
   "metadata": {},
   "source": [
    "## Errors"
   ]
  },
  {
   "cell_type": "markdown",
   "metadata": {},
   "source": [
    "A large fraction of your Python life will be spent interpreting the results of errors. Fortunately these usually get printed in a helpful way. Let's confuse Python and see what happens."
   ]
  },
  {
   "cell_type": "code",
   "execution_count": null,
   "metadata": {},
   "outputs": [],
   "source": [
    "1/0"
   ]
  },
  {
   "cell_type": "markdown",
   "metadata": {},
   "source": [
    "There's more about this later, when we look at handling errors and debugging."
   ]
  },
  {
   "cell_type": "markdown",
   "metadata": {},
   "source": [
    "## Printing stuff"
   ]
  },
  {
   "cell_type": "markdown",
   "metadata": {},
   "source": [
    "Above, the answers just appeared by magic underneath the expressions. This is how the interactive prompt works. If you put some of the code above in a file and ran it with Python directly, nothing would be printed. To print something to the standard output (i.e. 'the console' or 'the screen'), use the `print()` function."
   ]
  },
  {
   "cell_type": "code",
   "execution_count": null,
   "metadata": {},
   "outputs": [],
   "source": [
    "print(1+1)"
   ]
  },
  {
   "cell_type": "markdown",
   "metadata": {},
   "source": [
    "**Tip:** In Python2, `print` was interpreted as a special command, such that the brackets around the thing to be printed were optional. You *have* to have the brackets in Python3."
   ]
  },
  {
   "cell_type": "markdown",
   "metadata": {},
   "source": [
    "If you're working in a Jupyter notebook and you *don't* want to see the result of the command, put a semi-colon at the end of the line."
   ]
  },
  {
   "cell_type": "code",
   "execution_count": null,
   "metadata": {
    "collapsed": true
   },
   "outputs": [],
   "source": [
    "1 + 1;"
   ]
  },
  {
   "cell_type": "markdown",
   "metadata": {},
   "source": [
    "The ; is Python's line continuation, if you're curious -- you can put it at the end of any expression and it will start a new line of code. So what happens here should be understandable:"
   ]
  },
  {
   "cell_type": "code",
   "execution_count": null,
   "metadata": {},
   "outputs": [],
   "source": [
    "1+1; 2+3; 20+30"
   ]
  },
  {
   "cell_type": "markdown",
   "metadata": {},
   "source": [
    "**Tip:** Since good Python code is supposed to be easily readable, multiple statements on one line like this are **very rare**."
   ]
  },
  {
   "cell_type": "markdown",
   "metadata": {
    "nbpresent": {
     "id": "9447cc6f-37cb-41ac-93fe-1edb0b4914d5"
    }
   },
   "source": [
    "## Variables"
   ]
  },
  {
   "cell_type": "markdown",
   "metadata": {},
   "source": [
    "Assigning values to variables gives a reassuring feeling about the order of the Universe."
   ]
  },
  {
   "cell_type": "code",
   "execution_count": null,
   "metadata": {
    "nbpresent": {
     "id": "24fdb113-0ad6-4a3a-b308-af0a4986f6e2"
    }
   },
   "outputs": [],
   "source": [
    "x = 3"
   ]
  },
  {
   "cell_type": "markdown",
   "metadata": {},
   "source": [
    "Hopefully it's clear by now that there is no output at the interactive prompt above because assignment with `=` doesn't return any value, so there is no 'result' to print. If we just write the name of a variable, that returns the value of the variable, which we can print:"
   ]
  },
  {
   "cell_type": "code",
   "execution_count": null,
   "metadata": {},
   "outputs": [],
   "source": [
    "x"
   ]
  },
  {
   "cell_type": "markdown",
   "metadata": {},
   "source": [
    "Notice that you can define something in one cell and use its value in a later cell. The same is true in an IPython session -- the results of earlier lines are still in memory, as if all the cells were executed step by step as a single program."
   ]
  },
  {
   "cell_type": "markdown",
   "metadata": {},
   "source": [
    "**Tip:** Variables can be named anything, as long as you avoid [reserved keywords](https://docs.python.org/3/reference/lexical_analysis.html#keywords) used by Python itself."
   ]
  },
  {
   "cell_type": "markdown",
   "metadata": {},
   "source": [
    "All the ideas of dynamic typing works as you might expect with variables."
   ]
  },
  {
   "cell_type": "code",
   "execution_count": null,
   "metadata": {},
   "outputs": [],
   "source": [
    "y = 2.0\n",
    "type(x*y)"
   ]
  },
  {
   "cell_type": "markdown",
   "metadata": {},
   "source": [
    "## Strings and booleans"
   ]
  },
  {
   "cell_type": "markdown",
   "metadata": {
    "nbpresent": {
     "id": "bca9133f-ba7f-49d9-8663-de9243a20550"
    }
   },
   "source": [
    "Now we'll introduce two other basic types, strings and 'booleans' (logical values `True` and `False`)."
   ]
  },
  {
   "cell_type": "code",
   "execution_count": null,
   "metadata": {
    "nbpresent": {
     "id": "6f9cae44-8913-481b-a7b4-137b369d66a0"
    }
   },
   "outputs": [],
   "source": [
    "a = 'carbon dioxide' # a string\n",
    "b = True # a boolean"
   ]
  },
  {
   "cell_type": "code",
   "execution_count": null,
   "metadata": {
    "nbpresent": {
     "id": "7f62bc4b-b807-40be-8377-a32250dee331"
    }
   },
   "outputs": [],
   "source": [
    "type(a)"
   ]
  },
  {
   "cell_type": "code",
   "execution_count": null,
   "metadata": {
    "nbpresent": {
     "id": "85bb4dc8-0795-44bc-98ce-21067ba6eee9"
    }
   },
   "outputs": [],
   "source": [
    "type(b)"
   ]
  },
  {
   "cell_type": "markdown",
   "metadata": {},
   "source": [
    "We'll concentrate on strings first, then look at logical values."
   ]
  },
  {
   "cell_type": "markdown",
   "metadata": {},
   "source": [
    "(**Advanced Tip:** Python strings can be Unicode without _too_ much fuss, see here: [Python2](https://docs.python.org/2/howto/unicode.html)/[Python 3](https://docs.python.org/3.6/howto/unicode.html). This is important in the 'real world' e.g. where people's names can't be properly represented in ASCII. However, in most cases, scientific programming only ever requires ASCII, so you don't need to worry about this unless you want to. Printing maths symbols and less common characters in plots is handled in a totally different way, as we'll see later.) "
   ]
  },
  {
   "cell_type": "markdown",
   "metadata": {},
   "source": [
    "Compared to most other languages, manipulating strings in Python is easy. The next cell shows one way to combine multiple strings into one longer string."
   ]
  },
  {
   "cell_type": "code",
   "execution_count": null,
   "metadata": {
    "collapsed": true
   },
   "outputs": [],
   "source": [
    "a = 'carbon dioxide' # a string\n",
    "print(a + ' sounds like ' + a)"
   ]
  },
  {
   "cell_type": "markdown",
   "metadata": {},
   "source": [
    "Strings are Python *objects* and as such have **methods** of their own. Methods are just functions that you can access by following the name of an object with a `.` and the name of the method, as shown in the following example -- the `upper` method of a string returns a copy of that string with all the letters converted to upper case. We'll look at the ideas of 'objects' and 'methods' in more detail later in the course."
   ]
  },
  {
   "cell_type": "code",
   "execution_count": null,
   "metadata": {},
   "outputs": [],
   "source": [
    "print(a.upper())"
   ]
  },
  {
   "cell_type": "markdown",
   "metadata": {},
   "source": [
    "There are several different ways to write strings:"
   ]
  },
  {
   "cell_type": "code",
   "execution_count": null,
   "metadata": {},
   "outputs": [],
   "source": [
    "\"Double quotes\""
   ]
  },
  {
   "cell_type": "code",
   "execution_count": null,
   "metadata": {},
   "outputs": [],
   "source": [
    "'Single quotes'"
   ]
  },
  {
   "cell_type": "markdown",
   "metadata": {},
   "source": [
    "The main point of having two alternatives is that you can use one inside the other, so:"
   ]
  },
  {
   "cell_type": "code",
   "execution_count": null,
   "metadata": {},
   "outputs": [],
   "source": [
    "\"This 'works' fine\""
   ]
  },
  {
   "cell_type": "code",
   "execution_count": null,
   "metadata": {},
   "outputs": [],
   "source": [
    "'as does \"this\"'"
   ]
  },
  {
   "cell_type": "markdown",
   "metadata": {},
   "source": [
    "There is another less obvious type of string which starts and ends with three double quotes: `\"\"\"`"
   ]
  },
  {
   "cell_type": "code",
   "execution_count": null,
   "metadata": {},
   "outputs": [],
   "source": [
    "\"\"\"\n",
    "Three double quotes either side allows long blocks of text with line breaks!\n",
    "\n",
    "You will see this all the time in Python, because it's the usual way of\n",
    "providing documentation for functions. These so-called 'docstrings' can be \n",
    "put right after the definition of functions and will be picked up by Python's\n",
    "built-in help system, which we'll look at later.\n",
    "\"\"\""
   ]
  },
  {
   "cell_type": "markdown",
   "metadata": {},
   "source": [
    "That `\\n` is the (non-printing) new-line code, which you've hopefully seen before somewhere. This illustrates the difference between the interactive prompt and what you would get from `print()`."
   ]
  },
  {
   "cell_type": "code",
   "execution_count": null,
   "metadata": {},
   "outputs": [],
   "source": [
    "print(\"I put some explicit\\nnewlines in here\\nmyself, by using the \\\\n\")"
   ]
  },
  {
   "cell_type": "markdown",
   "metadata": {},
   "source": [
    "**Tip:** Notice how I put '\\n' in the string on the last line by using an extra `\\`. The jargon for this is 'escaping' `\\n`."
   ]
  },
  {
   "cell_type": "markdown",
   "metadata": {},
   "source": [
    "Other non-string variable types can be converted to strings:"
   ]
  },
  {
   "cell_type": "code",
   "execution_count": null,
   "metadata": {},
   "outputs": [],
   "source": [
    "str(6**7)"
   ]
  },
  {
   "cell_type": "markdown",
   "metadata": {},
   "source": [
    "### Getting the values of variables to appear in strings\n",
    "\n",
    "This is probably the first and most common thing scientific programmers want to do with strings. We want to print some variables with words around them, or construct names for files based on something variable, like input from the user.\n",
    "\n",
    "The most basic and ugly way to do this is to add up lots of small chunks with `+` like we did above:"
   ]
  },
  {
   "cell_type": "code",
   "execution_count": null,
   "metadata": {},
   "outputs": [],
   "source": [
    "element1 = 'carbon'\n",
    "element2 = 'oxygen'\n",
    "print(a + ' is a compound of ' + element1 + ' and ' + element2)"
   ]
  },
  {
   "cell_type": "markdown",
   "metadata": {},
   "source": [
    "This is OK in limited cases but it's hard to do anything more complicated with it. Also it can be tough to read. The  'Pythonic' way is to write a string with special placeholders in it that allow for 'string interpolation', like this:"
   ]
  },
  {
   "cell_type": "code",
   "execution_count": null,
   "metadata": {},
   "outputs": [],
   "source": [
    "element1 = 'carbon'\n",
    "element2 = 'oxygen'\n",
    "\n",
    "full_string = '%s is a compound of %s and %s'%(a,element1,element2)\n",
    "print(full_string)"
   ]
  },
  {
   "cell_type": "markdown",
   "metadata": {},
   "source": [
    "The variables passed to the string interpolation operator `%` are inserted into the string, in the order they appear in the brackets. `%s` is a placeholder that formats the variable you give it as a **s**tring. The `%` that glues the string to the brackets is a special operator that tells Python to interpolate the following variables into the preceding string. (It just happens to be the same symbol as the modulo operator for numbers).\n",
    "\n",
    "It doesn't matter if do the interpolation when you define the string, or later."
   ]
  },
  {
   "cell_type": "code",
   "execution_count": null,
   "metadata": {},
   "outputs": [],
   "source": [
    "# For example, this is equivalent to the above example:\n",
    "element1 = 'carbon'\n",
    "element2 = 'oxygen'\n",
    "\n",
    "full_string = '%s is a compound of %s and %s'\n",
    "print(full_string%(a,element1,element2))\n",
    "\n",
    "# So is this:\n",
    "print('%s is a compound of %s and %s'%(a,element1,element2))"
   ]
  },
  {
   "cell_type": "markdown",
   "metadata": {},
   "source": [
    "String interpolation turns out to be one of the things you'll use very often to get stuff done at work -- for example, in the context of writing axis labels and legends for plots, working with data tables, and working with path to files. Compared to many other languages, string interpolation in Python wonderfully easy. \n",
    "\n",
    "There are other format specifiers, and syntax for each of them to specify things like the number of decimal places. [This link has a clear explanation of the various options](https://pyformat.info/). A mismatch between the type of the variable and the type expected by the specifier works as long as it's possible to cast one to the other."
   ]
  },
  {
   "cell_type": "code",
   "execution_count": null,
   "metadata": {},
   "outputs": [],
   "source": [
    "for_example = \"\"\"This is an integer: %d\n",
    "This is a float: %2.3f\n",
    "This is scientific notation: %10.6e\n",
    "This is a string: %s\"\"\"\n",
    "\n",
    "print(for_example%(2.0,2,2e22,2))"
   ]
  },
  {
   "cell_type": "markdown",
   "metadata": {},
   "source": [
    "There is another way to format strings (the so-called 'new' style) using the format function, like this:"
   ]
  },
  {
   "cell_type": "code",
   "execution_count": null,
   "metadata": {},
   "outputs": [],
   "source": [
    "for_example = '{} is a compound of {} and {}'\n",
    "print(for_example.format(a,element1,element2))"
   ]
  },
  {
   "cell_type": "code",
   "execution_count": null,
   "metadata": {},
   "outputs": [],
   "source": [
    "'{:.2f}'.format(200)"
   ]
  },
  {
   "cell_type": "markdown",
   "metadata": {},
   "source": [
    "The `{}` are the variable placeholders for this new-style formatting. You can put format codes inside them, a bit like like the `%d` syntax of the old-style string interpolation. For example, `{:d}` formats that entry as an integer, and `{:.2f}` formats it as a float with 2 decimal places. You can also give the placeholders names that you match to the variables in the argument list, so they don't have to be given in order, like this:"
   ]
  },
  {
   "cell_type": "code",
   "execution_count": null,
   "metadata": {},
   "outputs": [],
   "source": [
    "for_example = '{compound:s} is a compound of {first_thing:s} and {second_thing:s}'\n",
    "print(for_example.format(first_thing=element1,compound=a,second_thing=element2))\n",
    "print(for_example.format(first_thing=element2,compound=a,second_thing=element1))"
   ]
  },
  {
   "cell_type": "markdown",
   "metadata": {},
   "source": [
    "This is useful for very long strings (for example, if you're writing a parameter file automatically). Many people (including me) swap back and forth between old and new style string interpolation in the same program. This is bad habit.\n",
    "\n",
    "There is actually an even 'newer' style of string formatting, called [*fstrings*](https://cito.github.io/blog/f-strings/). These are only available in ```python3.6``` or above (note that ```python3.6.0``` is available on COSMA)! Using fstrings, it is possible to reference actual variables in your code, like below:"
   ]
  },
  {
   "cell_type": "code",
   "execution_count": null,
   "metadata": {},
   "outputs": [],
   "source": [
    "for_example = \"fstrings are great!\"\n",
    "x = 1.3432563546346\n",
    "y = 1231\n",
    "print(f\"{for_example} You can use them to print your variables easily (x): {x}, (y): {y}\")"
   ]
  },
  {
   "cell_type": "markdown",
   "metadata": {},
   "source": [
    "----\n",
    "*Further reading:*\n",
    "- the `regex` module is used to search for patterns in strings; it seems complicated at first, but it's worth learning.\n",
    "- the `os.path` module has some functions to make it easier and more portable to construct filesystem paths by combining strings, but the techniques above will work OK too. We'll look at that later."
   ]
  },
  {
   "cell_type": "markdown",
   "metadata": {},
   "source": [
    "## `None` "
   ]
  },
  {
   "cell_type": "markdown",
   "metadata": {},
   "source": [
    "Variables can also have a special value of `None`, which indicates that they are defined, but have no value. **This sounds pretty abstract, but `None` is used all the time and is really important to know about.**"
   ]
  },
  {
   "cell_type": "code",
   "execution_count": null,
   "metadata": {},
   "outputs": [],
   "source": [
    "c = None\n",
    "type(c)"
   ]
  },
  {
   "cell_type": "markdown",
   "metadata": {},
   "source": [
    "### Logical operations"
   ]
  },
  {
   "cell_type": "markdown",
   "metadata": {},
   "source": [
    "Now we can try some logical operations using the [logical comparison](https://docs.python.org/3/library/stdtypes.html#comparisons) operators (`==` for equal to, `!=` for not equal to, etc.)"
   ]
  },
  {
   "cell_type": "code",
   "execution_count": null,
   "metadata": {},
   "outputs": [],
   "source": [
    "print(1==1)\n",
    "print(1!=2)\n",
    "print(1==2)\n",
    "print(1<=2)\n",
    "# etc. etc."
   ]
  },
  {
   "cell_type": "code",
   "execution_count": null,
   "metadata": {},
   "outputs": [],
   "source": [
    "print(True != False)\n",
    "print(False == None)"
   ]
  },
  {
   "cell_type": "markdown",
   "metadata": {},
   "source": [
    "There are also boolean operators (`and`, `or` and `not`) for comparing **boolean values**."
   ]
  },
  {
   "cell_type": "code",
   "execution_count": null,
   "metadata": {},
   "outputs": [],
   "source": [
    "True and True"
   ]
  },
  {
   "cell_type": "code",
   "execution_count": null,
   "metadata": {},
   "outputs": [],
   "source": [
    "True and False"
   ]
  },
  {
   "cell_type": "code",
   "execution_count": null,
   "metadata": {},
   "outputs": [],
   "source": [
    "True or False"
   ]
  },
  {
   "cell_type": "code",
   "execution_count": null,
   "metadata": {},
   "outputs": [],
   "source": [
    "not True or False"
   ]
  },
  {
   "cell_type": "markdown",
   "metadata": {},
   "source": [
    "and so on. Beware:"
   ]
  },
  {
   "cell_type": "code",
   "execution_count": null,
   "metadata": {},
   "outputs": [],
   "source": [
    "1 == True"
   ]
  },
  {
   "cell_type": "code",
   "execution_count": null,
   "metadata": {},
   "outputs": [],
   "source": [
    "0 == False"
   ]
  },
  {
   "cell_type": "markdown",
   "metadata": {},
   "source": [
    "Yikes! Maybe every positive number is `True`?"
   ]
  },
  {
   "cell_type": "code",
   "execution_count": null,
   "metadata": {},
   "outputs": [],
   "source": [
    "2 == True"
   ]
  },
  {
   "cell_type": "markdown",
   "metadata": {},
   "source": [
    "How about negatives?"
   ]
  },
  {
   "cell_type": "code",
   "execution_count": null,
   "metadata": {},
   "outputs": [],
   "source": [
    "-1 == True"
   ]
  },
  {
   "cell_type": "markdown",
   "metadata": {},
   "source": [
    "OK... so if True and False are equal to 1 and 0, can we do arithmetic with them?"
   ]
  },
  {
   "cell_type": "code",
   "execution_count": null,
   "metadata": {},
   "outputs": [],
   "source": [
    "True - 1 == False "
   ]
  },
  {
   "cell_type": "code",
   "execution_count": null,
   "metadata": {},
   "outputs": [],
   "source": [
    "False - 1"
   ]
  },
  {
   "cell_type": "markdown",
   "metadata": {},
   "source": [
    "In Python, `True` and `False` are really some special sort of integers (`bool`), the values of which are 1 and 0 respectively. 99.9% of the time you probably don't need to worry about this. [Further discussion here if interested](http://stackoverflow.com/questions/2764017/is-false-0-and-true-1-in-python-an-implementation-detail-or-is-it-guarante). \n",
    "\n",
    "The bottom line is (unlike some other languages) don't use 1 and 0 in cases where you really mean `True` or `False`. "
   ]
  },
  {
   "cell_type": "markdown",
   "metadata": {},
   "source": [
    "There is another operator, `is`, which checks if two things *are the same thing* rather than just checking that they have equal values. This doesn't sound obvious and it's even less obvious than it sounds."
   ]
  },
  {
   "cell_type": "code",
   "execution_count": null,
   "metadata": {},
   "outputs": [],
   "source": [
    "x = 1\n",
    "y = 1.0\n",
    "x is y"
   ]
  },
  {
   "cell_type": "markdown",
   "metadata": {},
   "source": [
    "To repeat the point above one more time"
   ]
  },
  {
   "cell_type": "code",
   "execution_count": null,
   "metadata": {},
   "outputs": [],
   "source": [
    "0 is False"
   ]
  },
  {
   "cell_type": "markdown",
   "metadata": {},
   "source": [
    "***The most common use of `is` is testing whether something is or is not `None`***"
   ]
  },
  {
   "cell_type": "code",
   "execution_count": null,
   "metadata": {},
   "outputs": [],
   "source": [
    "a = None\n",
    "b = False\n",
    "print(a is None)\n",
    "print(b is not None)"
   ]
  },
  {
   "cell_type": "markdown",
   "metadata": {},
   "source": [
    "##  Conditional expressions"
   ]
  },
  {
   "cell_type": "markdown",
   "metadata": {},
   "source": [
    "Now you know how boolean logic works, the `if`, `elif` and `else` statements let you write programs that do different things when particular conditions are met.\n",
    "\n",
    "If you've ever written any code before you should expect the following kind of thing to happen in Python, and it does:"
   ]
  },
  {
   "cell_type": "code",
   "execution_count": null,
   "metadata": {},
   "outputs": [],
   "source": [
    "A = 8\n",
    "if A == 8: # test equality\n",
    "    print ('A really is equal to 8.')\n",
    "    \n",
    "B = 10\n",
    "if B > 10*A: # test inequality\n",
    "    print('B is about %f times bigger than A.'%(B/A))\n",
    "elif B < A/10.0:\n",
    "    print('B is significantly smaller than A')\n",
    "else:\n",
    "    print('An astronomer might say B is approximately equal to A.')"
   ]
  },
  {
   "cell_type": "markdown",
   "metadata": {},
   "source": [
    "(You might have see `switch` or `case` statements in other languages: Python doesn't have these. It relies on `elif`.)"
   ]
  },
  {
   "cell_type": "markdown",
   "metadata": {},
   "source": [
    "Here is another example -- you don't need to write `if a == True` if a is a boolean"
   ]
  },
  {
   "cell_type": "code",
   "execution_count": null,
   "metadata": {},
   "outputs": [],
   "source": [
    "a = True\n",
    "if a:\n",
    "    print('A is true')\n",
    "else:\n",
    "    print('A is false')"
   ]
  },
  {
   "cell_type": "markdown",
   "metadata": {},
   "source": [
    "**Advanced Tip:** beware of mixing up boolean and integer types when you do that..."
   ]
  },
  {
   "cell_type": "code",
   "execution_count": null,
   "metadata": {},
   "outputs": [],
   "source": [
    "x = 2\n",
    "if x:\n",
    "    print('x is true')\n",
    "else:\n",
    "    print('x is not true')"
   ]
  },
  {
   "cell_type": "code",
   "execution_count": null,
   "metadata": {},
   "outputs": [],
   "source": [
    "# This only makes sense in cases where we have no clue what type x is, but we *really* want to ask if \n",
    "# it *is* the boolean value True, not just that it evaluates to something nonzero.\n",
    "x = 2 \n",
    "if x is True:\n",
    "    print('x is true')\n",
    "else:\n",
    "    print('x is not true')"
   ]
  },
  {
   "cell_type": "code",
   "execution_count": null,
   "metadata": {},
   "outputs": [],
   "source": [
    "# Since 0 could be a valid value of x, the right way to ask 'has x been given a value' is:\n",
    "x = 4\n",
    "if x is not None:\n",
    "    print('x is something')\n",
    "else:\n",
    "    print('x is nothing')"
   ]
  },
  {
   "cell_type": "markdown",
   "metadata": {},
   "source": [
    "## `while` loops"
   ]
  },
  {
   "cell_type": "markdown",
   "metadata": {},
   "source": [
    "Loops are blocks of code that are executed multiple times in sequence. There are two common types of loop available in Python, `while` and `for`. The following is an example of a `while` loop, which keeps executing the block of code until the conditional expression after `while` is satisfied."
   ]
  },
  {
   "cell_type": "code",
   "execution_count": null,
   "metadata": {},
   "outputs": [],
   "source": [
    "x = 0\n",
    "while x < 5:\n",
    "    print('%d'%(x))\n",
    "    x = x+1 # increment x"
   ]
  },
  {
   "cell_type": "markdown",
   "metadata": {},
   "source": [
    "This demonstrates how `while` works, but it is **bad** way to do this in Python. `while` should only be used where the number of iterations is *not* known ahead of time. This example shows that using `while` in other circumstances involves an ugly thing (we have to increment `x` by hand by writing `x=x+1` even though we know `x` will just increase from 1 to 5 in a predictable way) and a danger (try to see what happens if you forget the `x=x+1`!). \n",
    "\n",
    "The next notebook (Collections and Loops) introduces the much more common, elegant and useful `for` loop."
   ]
  },
  {
   "cell_type": "markdown",
   "metadata": {},
   "source": [
    "### End of notebook"
   ]
  }
 ],
 "metadata": {
  "anaconda-cloud": {},
  "kernelspec": {
   "display_name": "Python 3",
   "language": "python",
   "name": "python3"
  },
  "language_info": {
   "codemirror_mode": {
    "name": "ipython",
    "version": 3
   },
   "file_extension": ".py",
   "mimetype": "text/x-python",
   "name": "python",
   "nbconvert_exporter": "python",
   "pygments_lexer": "ipython3",
   "version": "3.6.2"
  },
  "nbpresent": {
   "slides": {
    "01c466c9-505d-4818-80dd-e77a6a1089e4": {
     "id": "01c466c9-505d-4818-80dd-e77a6a1089e4",
     "prev": "fb425a68-d931-4921-b5b7-077e4f78e004",
     "regions": {
      "5cbbc1be-d439-40ec-8497-215079f2e204": {
       "attrs": {
        "height": 0.8,
        "width": 0.8,
        "x": 0.1,
        "y": 0.1
       },
       "content": {
        "cell": "e23e3d43-c225-49f0-b184-40635f728f5c",
        "part": "whole"
       },
       "id": "5cbbc1be-d439-40ec-8497-215079f2e204"
      }
     }
    },
    "02fca758-0667-472a-9cee-dafc55309e96": {
     "id": "02fca758-0667-472a-9cee-dafc55309e96",
     "prev": "a3143fec-95ac-4204-9c41-3f7c1be9e094",
     "regions": {
      "6e8002e1-bd4f-4e28-b98a-f6ee50681ccf": {
       "attrs": {
        "height": 0.8,
        "width": 0.8,
        "x": 0.1,
        "y": 0.1
       },
       "content": {
        "cell": "3fc647f5-2b9a-4f01-af86-d484165c4331",
        "part": "whole"
       },
       "id": "6e8002e1-bd4f-4e28-b98a-f6ee50681ccf"
      }
     }
    },
    "04535bd9-ef6b-4095-a475-2e40b181cc79": {
     "id": "04535bd9-ef6b-4095-a475-2e40b181cc79",
     "prev": "6bf5682e-0f31-4f09-9d04-c58875d896a5",
     "regions": {
      "5e19702f-965e-4462-9a79-5679742ddc64": {
       "attrs": {
        "height": 0.8,
        "width": 0.8,
        "x": 0.1,
        "y": 0.1
       },
       "content": {
        "cell": "bca9133f-ba7f-49d9-8663-de9243a20550",
        "part": "whole"
       },
       "id": "5e19702f-965e-4462-9a79-5679742ddc64"
      }
     }
    },
    "081b35b1-4b5b-403f-aa2f-f19d1106569f": {
     "id": "081b35b1-4b5b-403f-aa2f-f19d1106569f",
     "prev": "7d5052df-c1de-4c51-ac15-3f1b186b248b",
     "regions": {
      "6f97c446-7fb3-4c58-ab57-d57f35ea87a5": {
       "attrs": {
        "height": 0.8,
        "width": 0.8,
        "x": 0.1,
        "y": 0.1
       },
       "content": {
        "cell": "079bcc66-8ec5-451d-9ed9-f86f95ad6d19",
        "part": "whole"
       },
       "id": "6f97c446-7fb3-4c58-ab57-d57f35ea87a5"
      }
     }
    },
    "08a18291-19a0-4ca6-a227-4dca5c0d2931": {
     "id": "08a18291-19a0-4ca6-a227-4dca5c0d2931",
     "prev": "763445e1-603d-44d6-a208-22f8826309aa",
     "regions": {
      "60cc01ab-dc25-4d34-907d-4abd8a0fde8e": {
       "attrs": {
        "height": 0.8,
        "width": 0.8,
        "x": 0.1,
        "y": 0.1
       },
       "content": {
        "cell": "f623ef64-9074-419e-b2f0-9f7953d24a06",
        "part": "whole"
       },
       "id": "60cc01ab-dc25-4d34-907d-4abd8a0fde8e"
      }
     }
    },
    "08ed2649-9be1-44c4-ba23-de77cdd8c86a": {
     "id": "08ed2649-9be1-44c4-ba23-de77cdd8c86a",
     "prev": "45fa2dda-34c5-4624-ac5d-cfc5f3d548c3",
     "regions": {
      "1b4ece70-01c5-47b8-86a1-cccc4df87608": {
       "attrs": {
        "height": 0.8,
        "width": 0.8,
        "x": 0.1,
        "y": 0.1
       },
       "content": {
        "cell": "7c485f22-a5e7-4a03-8c76-064ad09369bb",
        "part": "whole"
       },
       "id": "1b4ece70-01c5-47b8-86a1-cccc4df87608"
      }
     }
    },
    "0947878a-d607-4a36-9685-bd4178b6ce3c": {
     "id": "0947878a-d607-4a36-9685-bd4178b6ce3c",
     "prev": "e199be0b-0af9-4f49-87d7-2ae0ac2dfe42",
     "regions": {
      "a3d940a0-a47e-4e01-8709-bcd27faed536": {
       "attrs": {
        "height": 0.8,
        "width": 0.8,
        "x": 0.1,
        "y": 0.1
       },
       "content": {
        "cell": "82050072-d792-4642-b30b-0d400fe331c6",
        "part": "whole"
       },
       "id": "a3d940a0-a47e-4e01-8709-bcd27faed536"
      }
     }
    },
    "09eef099-67b0-4a41-a27e-b4d4a3046eda": {
     "id": "09eef099-67b0-4a41-a27e-b4d4a3046eda",
     "prev": "9f7cf2be-8caa-479f-b0f2-33670ce5f15f",
     "regions": {
      "20ff61af-baa3-4bd6-af1c-6e26621301b6": {
       "attrs": {
        "height": 0.8,
        "width": 0.8,
        "x": 0.1,
        "y": 0.1
       },
       "content": {
        "cell": "aa343325-c5f8-48b6-bc56-cf33a422a46d",
        "part": "whole"
       },
       "id": "20ff61af-baa3-4bd6-af1c-6e26621301b6"
      }
     }
    },
    "0c4761fa-af5a-4eb5-8bff-e73e94f8b31f": {
     "id": "0c4761fa-af5a-4eb5-8bff-e73e94f8b31f",
     "prev": "732bf0d6-fe60-46e6-b863-2d299f834c36",
     "regions": {
      "a41e8549-18cb-467f-9c8b-b96a704c93bf": {
       "attrs": {
        "height": 0.8,
        "width": 0.8,
        "x": 0.1,
        "y": 0.1
       },
       "content": {
        "cell": "82bbf45f-84ef-43b1-ab78-21cdb0b05bb9",
        "part": "whole"
       },
       "id": "a41e8549-18cb-467f-9c8b-b96a704c93bf"
      }
     }
    },
    "0cdfcce0-0391-4095-b402-5cfd6b9aa2f7": {
     "id": "0cdfcce0-0391-4095-b402-5cfd6b9aa2f7",
     "prev": "c03c2fe4-14a9-4a69-8033-41295af1e554",
     "regions": {
      "dc9e2d61-92f2-4002-9152-ae9094e9376c": {
       "attrs": {
        "height": 0.8,
        "width": 0.8,
        "x": 0.1,
        "y": 0.1
       },
       "content": {
        "cell": "e7b463a7-55af-41cc-90fd-9ac5b1a8ca51",
        "part": "whole"
       },
       "id": "dc9e2d61-92f2-4002-9152-ae9094e9376c"
      }
     }
    },
    "0d0068f3-6f23-4613-8292-ed0f7856e410": {
     "id": "0d0068f3-6f23-4613-8292-ed0f7856e410",
     "prev": "a9dda65f-83e2-40e9-9c1d-3fcdf2fabd73",
     "regions": {
      "7da9b47e-d452-4bff-849f-4b500688d674": {
       "attrs": {
        "height": 0.8,
        "width": 0.8,
        "x": 0.1,
        "y": 0.1
       },
       "content": {
        "cell": "ffdc37a1-2820-428b-9956-8efa42dc9da9",
        "part": "whole"
       },
       "id": "7da9b47e-d452-4bff-849f-4b500688d674"
      }
     }
    },
    "0dcd59fb-40a4-4ce8-a19a-3a2c1d41aeb8": {
     "id": "0dcd59fb-40a4-4ce8-a19a-3a2c1d41aeb8",
     "prev": "ca0e315e-0f45-467d-81ca-2c88a93ce8f3",
     "regions": {
      "25e0dec8-6302-4eb0-b3c4-87c45711503f": {
       "attrs": {
        "height": 0.8,
        "width": 0.8,
        "x": 0.1,
        "y": 0.1
       },
       "content": {
        "cell": "9447cc6f-37cb-41ac-93fe-1edb0b4914d5",
        "part": "whole"
       },
       "id": "25e0dec8-6302-4eb0-b3c4-87c45711503f"
      }
     }
    },
    "0e21f4de-57ed-4b46-bca8-5192019cc3de": {
     "id": "0e21f4de-57ed-4b46-bca8-5192019cc3de",
     "prev": "311f5b54-3176-4541-aced-4b3776ed2b75",
     "regions": {
      "41f7ca36-7051-41fb-9750-e816ee2cf268": {
       "attrs": {
        "height": 0.8,
        "width": 0.8,
        "x": 0.1,
        "y": 0.1
       },
       "content": {
        "cell": "e2c36236-f396-4b78-835b-7798c429aa4e",
        "part": "whole"
       },
       "id": "41f7ca36-7051-41fb-9750-e816ee2cf268"
      }
     }
    },
    "0e660068-d5de-4bf4-8003-d1819007ff2b": {
     "id": "0e660068-d5de-4bf4-8003-d1819007ff2b",
     "prev": "08a18291-19a0-4ca6-a227-4dca5c0d2931",
     "regions": {
      "b030e35f-de3a-40d2-9867-640954fb429a": {
       "attrs": {
        "height": 0.8,
        "width": 0.8,
        "x": 0.1,
        "y": 0.1
       },
       "content": {
        "cell": "35d0ad51-cd62-41d1-915c-7f37bb7e4014",
        "part": "whole"
       },
       "id": "b030e35f-de3a-40d2-9867-640954fb429a"
      }
     }
    },
    "0ee2c0b0-263d-468b-9e53-7ffd79657964": {
     "id": "0ee2c0b0-263d-468b-9e53-7ffd79657964",
     "prev": "96c5cd35-0228-4cff-bf22-28a498e1a708",
     "regions": {
      "af0a2f10-e8c9-47f9-b6a7-6883ab184fa1": {
       "attrs": {
        "height": 0.8,
        "width": 0.8,
        "x": 0.1,
        "y": 0.1
       },
       "content": {
        "cell": "7a1c859d-8a0a-4fed-8231-36af6d08ba77",
        "part": "whole"
       },
       "id": "af0a2f10-e8c9-47f9-b6a7-6883ab184fa1"
      }
     }
    },
    "0f91ec57-0bdf-4dcb-96e5-cde750ee66d6": {
     "id": "0f91ec57-0bdf-4dcb-96e5-cde750ee66d6",
     "prev": "6c2f6ae4-f6d2-4394-a9ff-5b5e5e2a815a",
     "regions": {
      "3dea7615-051d-4ead-a612-1dab659e422c": {
       "attrs": {
        "height": 0.8,
        "width": 0.8,
        "x": 0.1,
        "y": 0.1
       },
       "content": {
        "cell": "ecfd10db-731d-44f8-8f90-a930ccf425b6",
        "part": "whole"
       },
       "id": "3dea7615-051d-4ead-a612-1dab659e422c"
      }
     }
    },
    "116ba7c2-76f3-4c40-b550-2ffebdeb625f": {
     "id": "116ba7c2-76f3-4c40-b550-2ffebdeb625f",
     "prev": "7e55f2b4-90c4-48f9-a300-20884b391521",
     "regions": {
      "df44c1d0-081e-4a26-9e09-a1b12f104ae6": {
       "attrs": {
        "height": 0.8,
        "width": 0.8,
        "x": 0.1,
        "y": 0.1
       },
       "content": {
        "cell": "b4169cb3-534f-41b3-87bb-ba5a51ac7cec",
        "part": "whole"
       },
       "id": "df44c1d0-081e-4a26-9e09-a1b12f104ae6"
      }
     }
    },
    "12b115a9-4c2f-464d-ba7b-7ea133dcc798": {
     "id": "12b115a9-4c2f-464d-ba7b-7ea133dcc798",
     "prev": "360ce0ec-a3a8-43a3-b10e-e1c7dfb5b121",
     "regions": {
      "8dcec4e1-363a-43cf-8db0-8a38dc310893": {
       "attrs": {
        "height": 0.8,
        "width": 0.8,
        "x": 0.1,
        "y": 0.1
       },
       "content": {
        "cell": "edb44895-c619-4495-bc5a-762a062eaafe",
        "part": "whole"
       },
       "id": "8dcec4e1-363a-43cf-8db0-8a38dc310893"
      }
     }
    },
    "1573e586-87cc-4fbc-a505-3386f7fc697b": {
     "id": "1573e586-87cc-4fbc-a505-3386f7fc697b",
     "prev": "1bff161c-4355-4734-8b48-f19bb1bc058a",
     "regions": {
      "249f5207-4a49-4b1b-a334-13ff8067c00e": {
       "attrs": {
        "height": 0.8,
        "width": 0.8,
        "x": 0.1,
        "y": 0.1
       },
       "content": {
        "cell": "6236e799-97c3-4992-9ebf-959f6c81e844",
        "part": "whole"
       },
       "id": "249f5207-4a49-4b1b-a334-13ff8067c00e"
      }
     }
    },
    "1637ad4f-478d-4c44-b323-62889ee6d909": {
     "id": "1637ad4f-478d-4c44-b323-62889ee6d909",
     "prev": "4ec78a18-3afc-42be-b9b2-b5ece19bf4ba",
     "regions": {
      "2e649609-ce72-49b2-ba13-53cc3e29dd3a": {
       "attrs": {
        "height": 0.8,
        "width": 0.8,
        "x": 0.1,
        "y": 0.1
       },
       "content": {
        "cell": "e955bfff-32f0-4ac2-9203-99af3be557da",
        "part": "whole"
       },
       "id": "2e649609-ce72-49b2-ba13-53cc3e29dd3a"
      }
     }
    },
    "1792a4cb-c7d4-47e6-ae6f-a31ce256a5c5": {
     "id": "1792a4cb-c7d4-47e6-ae6f-a31ce256a5c5",
     "prev": "879f0091-dfa6-468a-b04f-cec14c89412f",
     "regions": {
      "916e50f4-0d57-467c-b03a-64838f4f5440": {
       "attrs": {
        "height": 0.8,
        "width": 0.8,
        "x": 0.1,
        "y": 0.1
       },
       "content": {
        "cell": "d00b7776-c4b0-40f6-9e2a-6bfd3241eb34",
        "part": "whole"
       },
       "id": "916e50f4-0d57-467c-b03a-64838f4f5440"
      }
     }
    },
    "1a5cd7ef-7430-4ca2-ba22-a2d74761db3c": {
     "id": "1a5cd7ef-7430-4ca2-ba22-a2d74761db3c",
     "prev": "ae58b0be-9c35-45a7-adb1-62b375d78d7c",
     "regions": {
      "2b3fd072-002c-424c-9bfb-841b9f106a77": {
       "attrs": {
        "height": 0.8,
        "width": 0.8,
        "x": 0.1,
        "y": 0.1
       },
       "content": {
        "cell": "9bcb3dcb-5cbd-491a-8d78-37db303486ce",
        "part": "whole"
       },
       "id": "2b3fd072-002c-424c-9bfb-841b9f106a77"
      }
     }
    },
    "1bff161c-4355-4734-8b48-f19bb1bc058a": {
     "id": "1bff161c-4355-4734-8b48-f19bb1bc058a",
     "prev": "4c2f549a-bddd-40c2-9d76-e5270b36a01c",
     "regions": {
      "5d98d0ab-695a-4903-ad70-a0763546f608": {
       "attrs": {
        "height": 0.8,
        "width": 0.8,
        "x": 0.1,
        "y": 0.1
       },
       "content": {
        "cell": "919c9047-1afd-4bc3-a0eb-d1eb16f13f10",
        "part": "whole"
       },
       "id": "5d98d0ab-695a-4903-ad70-a0763546f608"
      }
     }
    },
    "1c291a10-e5fb-4cf9-9b78-f89436181a4a": {
     "id": "1c291a10-e5fb-4cf9-9b78-f89436181a4a",
     "prev": "370ec599-f501-446d-8882-aada6759ea7a",
     "regions": {
      "d803bb1d-a160-432b-8142-a85e219c24e6": {
       "attrs": {
        "height": 0.8,
        "width": 0.8,
        "x": 0.1,
        "y": 0.1
       },
       "content": {
        "cell": "235c10d5-4b37-4962-9be7-eef78eb49d57",
        "part": "whole"
       },
       "id": "d803bb1d-a160-432b-8142-a85e219c24e6"
      }
     }
    },
    "1ca5354a-6d5b-4bc9-8959-7bfa0f4f7f8d": {
     "id": "1ca5354a-6d5b-4bc9-8959-7bfa0f4f7f8d",
     "prev": "2d4d0931-cd2a-43d3-ac0d-830e080d6b4e",
     "regions": {
      "6b88be86-35ee-413a-a597-f6f3d61ba2e9": {
       "attrs": {
        "height": 0.8,
        "width": 0.8,
        "x": 0.1,
        "y": 0.1
       },
       "content": {
        "cell": "9aed49aa-29dc-4579-9d85-96b1e0e7581f",
        "part": "whole"
       },
       "id": "6b88be86-35ee-413a-a597-f6f3d61ba2e9"
      }
     }
    },
    "206bc849-90a2-43db-827b-1231f5c07a8e": {
     "id": "206bc849-90a2-43db-827b-1231f5c07a8e",
     "prev": "7baf36d0-df46-46e8-b081-9e6d0f2a4daf",
     "regions": {
      "c9b01e60-86f2-4474-93dc-7f4da7e9c6c6": {
       "attrs": {
        "height": 0.8,
        "width": 0.8,
        "x": 0.1,
        "y": 0.1
       },
       "content": {
        "cell": "d9b098b3-2006-4193-b72f-7b44b422b4d9",
        "part": "whole"
       },
       "id": "c9b01e60-86f2-4474-93dc-7f4da7e9c6c6"
      }
     }
    },
    "20a841d0-a1e7-43e9-b71c-7843d54a68e5": {
     "id": "20a841d0-a1e7-43e9-b71c-7843d54a68e5",
     "prev": "f773a670-a49c-4751-94a2-e9cbd9a4b83c",
     "regions": {
      "94e4ed5a-c7d2-46a6-ad6e-19fe4998bfe8": {
       "attrs": {
        "height": 0.8,
        "width": 0.8,
        "x": 0.1,
        "y": 0.1
       },
       "content": {
        "cell": "2e865e2e-db67-4b81-a0a2-3f9d9f59f91a",
        "part": "whole"
       },
       "id": "94e4ed5a-c7d2-46a6-ad6e-19fe4998bfe8"
      }
     }
    },
    "23a86cbe-cf31-4fe0-bd5f-3110acc1ae1e": {
     "id": "23a86cbe-cf31-4fe0-bd5f-3110acc1ae1e",
     "prev": "5d182c7d-9381-4688-889f-3cd8539ea105",
     "regions": {
      "8cab6a80-6494-4766-9ab9-68576af425d7": {
       "attrs": {
        "height": 0.8,
        "width": 0.8,
        "x": 0.1,
        "y": 0.1
       },
       "content": {
        "cell": "8a31168c-d620-497f-99f5-98e128e6d9c6",
        "part": "whole"
       },
       "id": "8cab6a80-6494-4766-9ab9-68576af425d7"
      }
     }
    },
    "24441077-d25b-4e28-bc39-b63cb04d3b79": {
     "id": "24441077-d25b-4e28-bc39-b63cb04d3b79",
     "prev": "50b399a5-cf14-41ef-a883-64680923635f",
     "regions": {
      "499dc2f6-ea63-4171-9fab-2b2d9f55f60e": {
       "attrs": {
        "height": 0.8,
        "width": 0.8,
        "x": 0.1,
        "y": 0.1
       },
       "content": {
        "cell": "7160a6c6-4f93-4c0c-a10f-41f2c3e3366a",
        "part": "whole"
       },
       "id": "499dc2f6-ea63-4171-9fab-2b2d9f55f60e"
      }
     }
    },
    "24a1ceca-785a-499d-a8ae-bc02041b5da9": {
     "id": "24a1ceca-785a-499d-a8ae-bc02041b5da9",
     "prev": "02fca758-0667-472a-9cee-dafc55309e96",
     "regions": {
      "c29f31da-d8f9-4090-917e-22707efa55de": {
       "attrs": {
        "height": 0.8,
        "width": 0.8,
        "x": 0.1,
        "y": 0.1
       },
       "content": {
        "cell": "17f62e3f-0919-4174-99ee-0aa75829e702",
        "part": "whole"
       },
       "id": "c29f31da-d8f9-4090-917e-22707efa55de"
      }
     }
    },
    "257637b3-dacc-4990-924d-13a83aa532f4": {
     "id": "257637b3-dacc-4990-924d-13a83aa532f4",
     "prev": "369bcfc5-dfde-43a7-aff2-c5aea711f46a",
     "regions": {
      "8512a99a-9916-456e-b158-86cfe2714d40": {
       "attrs": {
        "height": 0.8,
        "width": 0.8,
        "x": 0.1,
        "y": 0.1
       },
       "content": {
        "cell": "cf1b51c8-e693-4807-a1fc-a69e1fe109dc",
        "part": "whole"
       },
       "id": "8512a99a-9916-456e-b158-86cfe2714d40"
      }
     }
    },
    "26ab6037-df3d-4032-9de1-f1bed1716844": {
     "id": "26ab6037-df3d-4032-9de1-f1bed1716844",
     "prev": "2ddc8712-a888-4fd3-975c-1e6568506f7d",
     "regions": {
      "d69ce478-d771-4677-a6de-874b029c6030": {
       "attrs": {
        "height": 0.8,
        "width": 0.8,
        "x": 0.1,
        "y": 0.1
       },
       "content": {
        "cell": "c17f38c1-d562-4d34-ab3a-ec511561f943",
        "part": "whole"
       },
       "id": "d69ce478-d771-4677-a6de-874b029c6030"
      }
     }
    },
    "26c57f6a-c921-4490-93cd-77b3c79b1991": {
     "id": "26c57f6a-c921-4490-93cd-77b3c79b1991",
     "prev": "913c57a8-a954-4bcd-8980-31473d1b511d",
     "regions": {
      "53025e82-f588-4e9d-b3f5-8e5eb0581ee1": {
       "attrs": {
        "height": 0.8,
        "width": 0.8,
        "x": 0.1,
        "y": 0.1
       },
       "content": {
        "cell": "a0ce3b97-0ee9-45d9-9917-a96022864208",
        "part": "whole"
       },
       "id": "53025e82-f588-4e9d-b3f5-8e5eb0581ee1"
      }
     }
    },
    "26dcc28f-375f-48bd-97a2-0c36e012ab22": {
     "id": "26dcc28f-375f-48bd-97a2-0c36e012ab22",
     "prev": "7f8587d6-5ece-4a83-bbc1-c9a7cbd17626",
     "regions": {
      "3965e5fa-d5fe-4dc6-8221-37a9055cc1d3": {
       "attrs": {
        "height": 0.8,
        "width": 0.8,
        "x": 0.1,
        "y": 0.1
       },
       "content": {
        "cell": "aabd9ce3-0088-4179-be07-1a7fd632508f",
        "part": "whole"
       },
       "id": "3965e5fa-d5fe-4dc6-8221-37a9055cc1d3"
      }
     }
    },
    "27b2736b-6142-4a8a-a5c6-aeb903512f12": {
     "id": "27b2736b-6142-4a8a-a5c6-aeb903512f12",
     "prev": "fb05f6ad-bffc-462e-86af-c08787dba5cf",
     "regions": {
      "750ad5b2-9fd2-421b-8383-d6ba2eeafdf9": {
       "attrs": {
        "height": 0.8,
        "width": 0.8,
        "x": 0.1,
        "y": 0.1
       },
       "content": {
        "cell": "6af79bf0-8d07-48da-b5ae-8ea48cd6786e",
        "part": "whole"
       },
       "id": "750ad5b2-9fd2-421b-8383-d6ba2eeafdf9"
      }
     }
    },
    "28e29ed6-6684-44e7-8423-5ac21aade69d": {
     "id": "28e29ed6-6684-44e7-8423-5ac21aade69d",
     "prev": "4b4dd388-6515-4e58-bd19-3e391d867fd2",
     "regions": {
      "b752d836-71b7-4298-8fea-1e0192b29a9d": {
       "attrs": {
        "height": 0.8,
        "width": 0.8,
        "x": 0.1,
        "y": 0.1
       },
       "content": {
        "cell": "85bb4dc8-0795-44bc-98ce-21067ba6eee9",
        "part": "whole"
       },
       "id": "b752d836-71b7-4298-8fea-1e0192b29a9d"
      }
     }
    },
    "2d3137e4-774e-4e59-bf37-c85a7cdf539a": {
     "id": "2d3137e4-774e-4e59-bf37-c85a7cdf539a",
     "prev": "d33ff74c-27e0-48f8-807a-8e564035e50b",
     "regions": {
      "6dd379d1-6378-4923-979e-1fbc09779b99": {
       "attrs": {
        "height": 0.8,
        "width": 0.8,
        "x": 0.1,
        "y": 0.1
       },
       "content": {
        "cell": "58cf50e6-f01c-4033-bc80-f699541c5a6d",
        "part": "whole"
       },
       "id": "6dd379d1-6378-4923-979e-1fbc09779b99"
      }
     }
    },
    "2d4d0931-cd2a-43d3-ac0d-830e080d6b4e": {
     "id": "2d4d0931-cd2a-43d3-ac0d-830e080d6b4e",
     "prev": "37ab7529-9ffc-44cb-8297-4d9975563c30",
     "regions": {
      "c1924ca9-540c-4ff3-8a8b-5d6dc64e26f0": {
       "attrs": {
        "height": 0.8,
        "width": 0.8,
        "x": 0.1,
        "y": 0.1
       },
       "content": {
        "cell": "ef34df18-a3f8-4939-9945-b6c2a4fa6c72",
        "part": "whole"
       },
       "id": "c1924ca9-540c-4ff3-8a8b-5d6dc64e26f0"
      }
     }
    },
    "2ddc8712-a888-4fd3-975c-1e6568506f7d": {
     "id": "2ddc8712-a888-4fd3-975c-1e6568506f7d",
     "prev": "9c1b74df-b2d1-4028-a019-c11cee217f49",
     "regions": {
      "36cceefa-f382-4748-a85e-06fe04bf1103": {
       "attrs": {
        "height": 0.8,
        "width": 0.8,
        "x": 0.1,
        "y": 0.1
       },
       "content": {
        "cell": "95e6bb9d-ba1f-4363-825b-0d0c67409ff5",
        "part": "whole"
       },
       "id": "36cceefa-f382-4748-a85e-06fe04bf1103"
      }
     }
    },
    "2ddf67d5-b63b-47c3-88fa-f356d57dc5d1": {
     "id": "2ddf67d5-b63b-47c3-88fa-f356d57dc5d1",
     "prev": "dff4d689-bb4e-43ca-9bc2-6470ca1f96ef",
     "regions": {
      "2944e5c1-7f66-4648-ab43-a003591d0109": {
       "attrs": {
        "height": 0.8,
        "width": 0.8,
        "x": 0.1,
        "y": 0.1
       },
       "content": {
        "cell": "fc067995-7346-46a1-b0b1-4f51beafb276",
        "part": "whole"
       },
       "id": "2944e5c1-7f66-4648-ab43-a003591d0109"
      }
     }
    },
    "311f5b54-3176-4541-aced-4b3776ed2b75": {
     "id": "311f5b54-3176-4541-aced-4b3776ed2b75",
     "prev": "a38dd62d-998c-42d1-a8b7-31e909a93e7e",
     "regions": {
      "4a4a8611-218d-49a7-9c78-e9e3bf469869": {
       "attrs": {
        "height": 0.8,
        "width": 0.8,
        "x": 0.1,
        "y": 0.1
       },
       "content": {
        "cell": "5961f523-544f-4544-9ec9-ab541b3dfae1",
        "part": "whole"
       },
       "id": "4a4a8611-218d-49a7-9c78-e9e3bf469869"
      }
     }
    },
    "3236259e-9718-4eb6-9bb6-a1949ddc969a": {
     "id": "3236259e-9718-4eb6-9bb6-a1949ddc969a",
     "prev": "dd1b0eb1-2ecd-4cb5-b31d-fb37f261bf7d",
     "regions": {
      "6eb63c3a-fc14-452f-88bb-260e5de125da": {
       "attrs": {
        "height": 0.8,
        "width": 0.8,
        "x": 0.1,
        "y": 0.1
       },
       "content": {
        "cell": "d5bb3826-f989-49e1-a7c9-ff211e8d7212",
        "part": "whole"
       },
       "id": "6eb63c3a-fc14-452f-88bb-260e5de125da"
      }
     }
    },
    "329163e0-0f30-4ed0-8c96-d79f8c645a18": {
     "id": "329163e0-0f30-4ed0-8c96-d79f8c645a18",
     "prev": null,
     "regions": {
      "fb4994db-9a1b-45ea-b5b6-68a77d9dbdc4": {
       "attrs": {
        "height": 0.8,
        "width": 0.8,
        "x": 0.1,
        "y": 0.1
       },
       "content": {
        "cell": "55418107-5dfc-4e05-8510-c6f24170e522",
        "part": "whole"
       },
       "id": "fb4994db-9a1b-45ea-b5b6-68a77d9dbdc4"
      }
     }
    },
    "32b90e1b-aa9f-4ae1-912f-dcf04e17b610": {
     "id": "32b90e1b-aa9f-4ae1-912f-dcf04e17b610",
     "prev": "6ac33898-ba06-4cc3-a0e9-a157d86f7351",
     "regions": {
      "3a00f5ac-69e9-417e-921b-3943d57bdc1f": {
       "attrs": {
        "height": 0.8,
        "width": 0.8,
        "x": 0.1,
        "y": 0.1
       },
       "content": {
        "cell": "a8de09f5-0319-4fa3-99fc-7e58363e5013",
        "part": "whole"
       },
       "id": "3a00f5ac-69e9-417e-921b-3943d57bdc1f"
      }
     }
    },
    "332263da-55f7-4d38-8723-b68e53c37d52": {
     "id": "332263da-55f7-4d38-8723-b68e53c37d52",
     "prev": "bdf7a5f0-b096-46b3-9039-ac955be06f44",
     "regions": {
      "6593decf-93fb-4d80-8236-27ba31d8927f": {
       "attrs": {
        "height": 0.8,
        "width": 0.8,
        "x": 0.1,
        "y": 0.1
       },
       "content": {
        "cell": "a3a75ba6-14f3-493d-bda2-01b714403b1a",
        "part": "whole"
       },
       "id": "6593decf-93fb-4d80-8236-27ba31d8927f"
      }
     }
    },
    "3477fc1d-0b40-49d0-a889-0d230435ce98": {
     "id": "3477fc1d-0b40-49d0-a889-0d230435ce98",
     "prev": "440fa3f4-6ffa-4665-ac6f-bcb70348311d",
     "regions": {
      "ac1bfe4a-5931-4579-917b-9dacac3a6aae": {
       "attrs": {
        "height": 0.8,
        "width": 0.8,
        "x": 0.1,
        "y": 0.1
       },
       "content": {
        "cell": "9dd7484e-d2b9-44c5-8325-a73c5b7fc27d",
        "part": "whole"
       },
       "id": "ac1bfe4a-5931-4579-917b-9dacac3a6aae"
      }
     }
    },
    "359a6de6-4a17-46c3-b4f0-7f4241ca7fce": {
     "id": "359a6de6-4a17-46c3-b4f0-7f4241ca7fce",
     "prev": "8bcaf737-a0c9-407e-9cf6-b669e559b8df",
     "regions": {
      "48006895-8850-44fa-8d33-2f17667ef88b": {
       "attrs": {
        "height": 0.8,
        "width": 0.8,
        "x": 0.1,
        "y": 0.1
       },
       "content": {
        "cell": "dbfa89a9-5fc8-41b6-a8ad-816304215cbe",
        "part": "whole"
       },
       "id": "48006895-8850-44fa-8d33-2f17667ef88b"
      }
     }
    },
    "360ce0ec-a3a8-43a3-b10e-e1c7dfb5b121": {
     "id": "360ce0ec-a3a8-43a3-b10e-e1c7dfb5b121",
     "prev": "1ca5354a-6d5b-4bc9-8959-7bfa0f4f7f8d",
     "regions": {
      "e652381d-c5eb-45b3-8ebe-42d7acd575f1": {
       "attrs": {
        "height": 0.8,
        "width": 0.8,
        "x": 0.1,
        "y": 0.1
       },
       "content": {
        "cell": "37e95fc6-8cc1-4eb1-bf65-3e6de1c95406",
        "part": "whole"
       },
       "id": "e652381d-c5eb-45b3-8ebe-42d7acd575f1"
      }
     }
    },
    "369bcfc5-dfde-43a7-aff2-c5aea711f46a": {
     "id": "369bcfc5-dfde-43a7-aff2-c5aea711f46a",
     "prev": "f7897302-728c-4292-9e8b-b336c68cd2d1",
     "regions": {
      "cd9df000-e076-4852-acf7-7c882ec3266d": {
       "attrs": {
        "height": 0.8,
        "width": 0.8,
        "x": 0.1,
        "y": 0.1
       },
       "content": {
        "cell": "91eec441-c016-4250-8db3-040ec7f15656",
        "part": "whole"
       },
       "id": "cd9df000-e076-4852-acf7-7c882ec3266d"
      }
     }
    },
    "3700475a-6cd3-4052-bccc-c936f49ac1c6": {
     "id": "3700475a-6cd3-4052-bccc-c936f49ac1c6",
     "prev": "6add932f-8b62-4aec-9f29-5368e4a0ec05",
     "regions": {
      "1d729b51-5616-46cf-a7a0-6daafcfba6aa": {
       "attrs": {
        "height": 0.8,
        "width": 0.8,
        "x": 0.1,
        "y": 0.1
       },
       "content": {
        "cell": "2166c3f8-a79f-4d6b-858e-199f8d84ca13",
        "part": "whole"
       },
       "id": "1d729b51-5616-46cf-a7a0-6daafcfba6aa"
      }
     }
    },
    "370ec599-f501-446d-8882-aada6759ea7a": {
     "id": "370ec599-f501-446d-8882-aada6759ea7a",
     "prev": "26ab6037-df3d-4032-9de1-f1bed1716844",
     "regions": {
      "9e2000a2-be4f-47d5-97aa-4b94b993fe38": {
       "attrs": {
        "height": 0.8,
        "width": 0.8,
        "x": 0.1,
        "y": 0.1
       },
       "content": {
        "cell": "97cc78b6-ac2c-42f7-86a9-1ccfa24a3ad5",
        "part": "whole"
       },
       "id": "9e2000a2-be4f-47d5-97aa-4b94b993fe38"
      }
     }
    },
    "37319440-43ee-4d26-8836-4cd83299aa75": {
     "id": "37319440-43ee-4d26-8836-4cd83299aa75",
     "prev": "3a4fa4fd-b1c8-4df1-877c-c33c3087807c",
     "regions": {
      "49d3f9d5-d485-4869-b498-a997ddf5298c": {
       "attrs": {
        "height": 0.8,
        "width": 0.8,
        "x": 0.1,
        "y": 0.1
       },
       "content": {
        "cell": "0f6c7292-302c-42c4-8782-8855b468416c",
        "part": "whole"
       },
       "id": "49d3f9d5-d485-4869-b498-a997ddf5298c"
      }
     }
    },
    "37ab7529-9ffc-44cb-8297-4d9975563c30": {
     "id": "37ab7529-9ffc-44cb-8297-4d9975563c30",
     "prev": "83cd31ff-62e0-4ec4-b6bf-4c7fe1a03db6",
     "regions": {
      "451252f1-7ac4-4c2e-abd2-bef201afcfd2": {
       "attrs": {
        "height": 0.8,
        "width": 0.8,
        "x": 0.1,
        "y": 0.1
       },
       "content": {
        "cell": "3b4501f2-4e97-4708-8f57-9d774d74e64b",
        "part": "whole"
       },
       "id": "451252f1-7ac4-4c2e-abd2-bef201afcfd2"
      }
     }
    },
    "37f57ce6-e47f-4e9d-a004-b671e930e9d1": {
     "id": "37f57ce6-e47f-4e9d-a004-b671e930e9d1",
     "prev": "d76fd7e0-60be-49a2-8d1e-3c1922d9704e",
     "regions": {
      "83644deb-f633-4de3-83aa-2754313181c8": {
       "attrs": {
        "height": 0.8,
        "width": 0.8,
        "x": 0.1,
        "y": 0.1
       },
       "content": {
        "cell": "6fde83b3-7276-41a6-a215-16013c5de921",
        "part": "whole"
       },
       "id": "83644deb-f633-4de3-83aa-2754313181c8"
      }
     }
    },
    "38122040-3d10-487d-a747-8b3239313135": {
     "id": "38122040-3d10-487d-a747-8b3239313135",
     "prev": "6f37e1ea-7c02-4832-8b83-79d3e51a43a5",
     "regions": {
      "091a3214-999b-4c38-9acd-fef814f3fa53": {
       "attrs": {
        "height": 0.8,
        "width": 0.8,
        "x": 0.1,
        "y": 0.1
       },
       "content": {
        "cell": "b6f8908c-ec53-4292-92e7-2fb3b946c124",
        "part": "whole"
       },
       "id": "091a3214-999b-4c38-9acd-fef814f3fa53"
      }
     }
    },
    "39c26525-3859-4d62-9b25-95fa04c21283": {
     "id": "39c26525-3859-4d62-9b25-95fa04c21283",
     "prev": "1573e586-87cc-4fbc-a505-3386f7fc697b",
     "regions": {
      "4490c3ff-6cbc-4793-85fe-08671c78c03b": {
       "attrs": {
        "height": 0.8,
        "width": 0.8,
        "x": 0.1,
        "y": 0.1
       },
       "content": {
        "cell": "7fb3fe44-be9c-4f53-bb18-2ad15b5e15a3",
        "part": "whole"
       },
       "id": "4490c3ff-6cbc-4793-85fe-08671c78c03b"
      }
     }
    },
    "3a4fa4fd-b1c8-4df1-877c-c33c3087807c": {
     "id": "3a4fa4fd-b1c8-4df1-877c-c33c3087807c",
     "prev": "9dec4584-0aae-454a-b040-0411b88773b0",
     "regions": {
      "903f12f5-202b-47d9-b10f-7ad66c0643f1": {
       "attrs": {
        "height": 0.8,
        "width": 0.8,
        "x": 0.1,
        "y": 0.1
       },
       "content": {
        "cell": "92f1c944-022a-49f7-8738-9564875e4f18",
        "part": "whole"
       },
       "id": "903f12f5-202b-47d9-b10f-7ad66c0643f1"
      }
     }
    },
    "440fa3f4-6ffa-4665-ac6f-bcb70348311d": {
     "id": "440fa3f4-6ffa-4665-ac6f-bcb70348311d",
     "prev": "4e37415e-8b33-4e5c-b018-7d501e8c29ab",
     "regions": {
      "93da708e-1280-4969-abb8-06759b19c128": {
       "attrs": {
        "height": 0.8,
        "width": 0.8,
        "x": 0.1,
        "y": 0.1
       },
       "content": {
        "cell": "ba3981bb-0b58-4891-a83d-ee29eac08055",
        "part": "whole"
       },
       "id": "93da708e-1280-4969-abb8-06759b19c128"
      }
     }
    },
    "45fa2dda-34c5-4624-ac5d-cfc5f3d548c3": {
     "id": "45fa2dda-34c5-4624-ac5d-cfc5f3d548c3",
     "prev": "a1c6ebab-485c-44b3-9b3a-355805d59058",
     "regions": {
      "202ea1df-0c1e-47f7-b3fe-b20b6dc337db": {
       "attrs": {
        "height": 0.8,
        "width": 0.8,
        "x": 0.1,
        "y": 0.1
       },
       "content": {
        "cell": "6e359c7c-4d22-4b21-a25b-f5d0d027b6ff",
        "part": "whole"
       },
       "id": "202ea1df-0c1e-47f7-b3fe-b20b6dc337db"
      }
     }
    },
    "49ce850e-5c0f-47aa-8504-2880e289d474": {
     "id": "49ce850e-5c0f-47aa-8504-2880e289d474",
     "prev": "581085a6-206a-41a5-b632-023f509c8cb4",
     "regions": {
      "aacef580-a027-4a2f-aecc-d56e273e037a": {
       "attrs": {
        "height": 0.8,
        "width": 0.8,
        "x": 0.1,
        "y": 0.1
       },
       "content": {
        "cell": "8fec4fd6-51d1-4151-bf05-af22dc6a6a28",
        "part": "whole"
       },
       "id": "aacef580-a027-4a2f-aecc-d56e273e037a"
      }
     }
    },
    "4b47b2ba-acad-4e8d-ab33-9a2b63a06999": {
     "id": "4b47b2ba-acad-4e8d-ab33-9a2b63a06999",
     "prev": "26dcc28f-375f-48bd-97a2-0c36e012ab22",
     "regions": {
      "8a0147f9-de08-4e42-8606-93574c4bd9e8": {
       "attrs": {
        "height": 0.8,
        "width": 0.8,
        "x": 0.1,
        "y": 0.1
       },
       "content": {
        "cell": "4446194f-4105-4925-9301-76d8a48697c4",
        "part": "whole"
       },
       "id": "8a0147f9-de08-4e42-8606-93574c4bd9e8"
      }
     }
    },
    "4b4dd388-6515-4e58-bd19-3e391d867fd2": {
     "id": "4b4dd388-6515-4e58-bd19-3e391d867fd2",
     "prev": "86bee47f-7fa4-41a4-a763-a8f214664e1b",
     "regions": {
      "85df48b8-df28-42f6-ac66-9c8a2672ea28": {
       "attrs": {
        "height": 0.8,
        "width": 0.8,
        "x": 0.1,
        "y": 0.1
       },
       "content": {
        "cell": "7f62bc4b-b807-40be-8377-a32250dee331",
        "part": "whole"
       },
       "id": "85df48b8-df28-42f6-ac66-9c8a2672ea28"
      }
     }
    },
    "4c2f549a-bddd-40c2-9d76-e5270b36a01c": {
     "id": "4c2f549a-bddd-40c2-9d76-e5270b36a01c",
     "prev": "559c08eb-9aa8-4ca2-8d2e-626440bdc67e",
     "regions": {
      "f3321909-164f-4e29-8ae1-fc7c397a5335": {
       "attrs": {
        "height": 0.8,
        "width": 0.8,
        "x": 0.1,
        "y": 0.1
       },
       "content": {
        "cell": "1d070c84-8038-454a-baa7-05a601bc422f",
        "part": "whole"
       },
       "id": "f3321909-164f-4e29-8ae1-fc7c397a5335"
      }
     }
    },
    "4c95bc0a-8158-4591-a7bd-eb18a8ce5b7a": {
     "id": "4c95bc0a-8158-4591-a7bd-eb18a8ce5b7a",
     "prev": "c89b7210-e956-4242-b3f6-231edc3b9731",
     "regions": {
      "131428f4-b990-469f-b61c-32a0d4fac5f5": {
       "attrs": {
        "height": 0.8,
        "width": 0.8,
        "x": 0.1,
        "y": 0.1
       },
       "content": {
        "cell": "53b85df3-951e-4caf-95be-baecd0f521b2",
        "part": "whole"
       },
       "id": "131428f4-b990-469f-b61c-32a0d4fac5f5"
      }
     }
    },
    "4d922012-d02b-429e-b1f5-1dc776397f56": {
     "id": "4d922012-d02b-429e-b1f5-1dc776397f56",
     "prev": "09eef099-67b0-4a41-a27e-b4d4a3046eda",
     "regions": {
      "73335b4d-cbd8-4fc9-a09d-849136c92336": {
       "attrs": {
        "height": 0.8,
        "width": 0.8,
        "x": 0.1,
        "y": 0.1
       },
       "content": {
        "cell": "401eb39b-2db2-4576-8ecd-6233575cced2",
        "part": "whole"
       },
       "id": "73335b4d-cbd8-4fc9-a09d-849136c92336"
      }
     }
    },
    "4e37415e-8b33-4e5c-b018-7d501e8c29ab": {
     "id": "4e37415e-8b33-4e5c-b018-7d501e8c29ab",
     "prev": "f4949dee-825b-4461-8d6d-26091954e26f",
     "regions": {
      "58878981-cb40-4606-9b8b-770efd94cb23": {
       "attrs": {
        "height": 0.8,
        "width": 0.8,
        "x": 0.1,
        "y": 0.1
       },
       "content": {
        "cell": "70cc1e21-b33e-46b5-aaaa-c527c9ab321b",
        "part": "whole"
       },
       "id": "58878981-cb40-4606-9b8b-770efd94cb23"
      }
     }
    },
    "4ec78a18-3afc-42be-b9b2-b5ece19bf4ba": {
     "id": "4ec78a18-3afc-42be-b9b2-b5ece19bf4ba",
     "prev": "cc1014ab-b6c2-4c45-aad3-f08702debe87",
     "regions": {
      "45405c3e-2415-4e86-b2e8-6d2a41abe307": {
       "attrs": {
        "height": 0.8,
        "width": 0.8,
        "x": 0.1,
        "y": 0.1
       },
       "content": {
        "cell": "f91fb9eb-c779-46e9-9813-011a10c263f7",
        "part": "whole"
       },
       "id": "45405c3e-2415-4e86-b2e8-6d2a41abe307"
      }
     }
    },
    "50113a6e-974b-4643-819b-51a08799955e": {
     "id": "50113a6e-974b-4643-819b-51a08799955e",
     "prev": "df1bdec6-6ddc-470b-b84e-d05c8f7b076a",
     "regions": {
      "d5067cf3-b0e8-48ea-b1ed-cc139ba0afa9": {
       "attrs": {
        "height": 0.8,
        "width": 0.8,
        "x": 0.1,
        "y": 0.1
       },
       "content": {
        "cell": "a49c67a9-a8f9-4efe-bbf5-3a379a2fb73f",
        "part": "whole"
       },
       "id": "d5067cf3-b0e8-48ea-b1ed-cc139ba0afa9"
      }
     }
    },
    "50b399a5-cf14-41ef-a883-64680923635f": {
     "id": "50b399a5-cf14-41ef-a883-64680923635f",
     "prev": "feb1d664-2302-4f1a-b416-0c760080cac7",
     "regions": {
      "293a63b7-353a-4fad-82f9-8b63e3819437": {
       "attrs": {
        "height": 0.8,
        "width": 0.8,
        "x": 0.1,
        "y": 0.1
       },
       "content": {
        "cell": "36de7060-30bd-4d1d-9a0f-1a27658a59fe",
        "part": "whole"
       },
       "id": "293a63b7-353a-4fad-82f9-8b63e3819437"
      }
     }
    },
    "541e05f4-3f1a-483e-9aa1-c97e956c9a52": {
     "id": "541e05f4-3f1a-483e-9aa1-c97e956c9a52",
     "prev": "73a1046d-5fc1-411e-bb1e-1295c6142e4f",
     "regions": {
      "c85671fc-c063-4f7c-be18-60c5a0f610d6": {
       "attrs": {
        "height": 0.8,
        "width": 0.8,
        "x": 0.1,
        "y": 0.1
       },
       "content": {
        "cell": "fe265057-fef6-416d-8590-00ff7bea9fce",
        "part": "whole"
       },
       "id": "c85671fc-c063-4f7c-be18-60c5a0f610d6"
      }
     }
    },
    "559c08eb-9aa8-4ca2-8d2e-626440bdc67e": {
     "id": "559c08eb-9aa8-4ca2-8d2e-626440bdc67e",
     "prev": "9217a19b-eb0a-41ec-a147-2a42275aec26",
     "regions": {
      "db664bc6-4fd9-423e-877c-46d9cb7f02b1": {
       "attrs": {
        "height": 0.8,
        "width": 0.8,
        "x": 0.1,
        "y": 0.1
       },
       "content": {
        "cell": "980ceb10-2ee6-46b7-bd25-03b2345cb868",
        "part": "whole"
       },
       "id": "db664bc6-4fd9-423e-877c-46d9cb7f02b1"
      }
     }
    },
    "57166f66-3101-4022-899f-603898b4e7bc": {
     "id": "57166f66-3101-4022-899f-603898b4e7bc",
     "prev": "d47b1559-aba6-4e6b-a314-02816246f86c",
     "regions": {
      "3dfa059a-2408-4485-add2-972812b98216": {
       "attrs": {
        "height": 0.8,
        "width": 0.8,
        "x": 0.1,
        "y": 0.1
       },
       "content": {
        "cell": "4af161b5-e629-4be4-aa08-e1fef0a6f14b",
        "part": "whole"
       },
       "id": "3dfa059a-2408-4485-add2-972812b98216"
      }
     }
    },
    "579b5085-d8c8-4ff9-9701-d86b984d066e": {
     "id": "579b5085-d8c8-4ff9-9701-d86b984d066e",
     "prev": "a2e668ca-a29f-40c0-b871-92027a88dd1e",
     "regions": {
      "8485e21c-b7ac-47e5-9bc2-b58df4de5398": {
       "attrs": {
        "height": 0.8,
        "width": 0.8,
        "x": 0.1,
        "y": 0.1
       },
       "content": {
        "cell": "09d09680-894b-4d2a-816d-8f00420b7611",
        "part": "whole"
       },
       "id": "8485e21c-b7ac-47e5-9bc2-b58df4de5398"
      }
     }
    },
    "581085a6-206a-41a5-b632-023f509c8cb4": {
     "id": "581085a6-206a-41a5-b632-023f509c8cb4",
     "prev": "5d269da5-8114-48e7-99d1-75ea9cd12e1c",
     "regions": {
      "2b063fe7-50dc-4c87-b1e6-95973bbee8e7": {
       "attrs": {
        "height": 0.8,
        "width": 0.8,
        "x": 0.1,
        "y": 0.1
       },
       "content": {
        "cell": "5e0778bb-1fd6-4b1f-a1ae-23b569b40888",
        "part": "whole"
       },
       "id": "2b063fe7-50dc-4c87-b1e6-95973bbee8e7"
      }
     }
    },
    "58b6e184-7a25-400a-a1a2-5040d77184fb": {
     "id": "58b6e184-7a25-400a-a1a2-5040d77184fb",
     "prev": "867b12f7-7427-4948-b079-f7b341250ebf",
     "regions": {
      "26d8a427-fcaf-4a44-8093-3161916e40b1": {
       "attrs": {
        "height": 0.8,
        "width": 0.8,
        "x": 0.1,
        "y": 0.1
       },
       "content": {
        "cell": "24bdbf21-f6ea-47bb-92e1-62371717d705",
        "part": "whole"
       },
       "id": "26d8a427-fcaf-4a44-8093-3161916e40b1"
      }
     }
    },
    "5986c8b5-70a6-451b-8fa5-cb60ba643006": {
     "id": "5986c8b5-70a6-451b-8fa5-cb60ba643006",
     "prev": "081b35b1-4b5b-403f-aa2f-f19d1106569f",
     "regions": {
      "c939cc1d-9ac6-4554-8c60-d274726deae5": {
       "attrs": {
        "height": 0.8,
        "width": 0.8,
        "x": 0.1,
        "y": 0.1
       },
       "content": {
        "cell": "ddd27ca9-0ff5-4369-810a-d130b8f4939c",
        "part": "whole"
       },
       "id": "c939cc1d-9ac6-4554-8c60-d274726deae5"
      }
     }
    },
    "5a3807db-84c7-413d-8876-ecb7e130ce2e": {
     "id": "5a3807db-84c7-413d-8876-ecb7e130ce2e",
     "prev": "5f0555ca-9b91-4f05-92c7-14870efc282d",
     "regions": {
      "3a396137-a9ee-49ad-a011-3749188caf69": {
       "attrs": {
        "height": 0.8,
        "width": 0.8,
        "x": 0.1,
        "y": 0.1
       },
       "content": {
        "cell": "0045c0ed-74e7-4ab9-b435-fcf0a0d9e634",
        "part": "whole"
       },
       "id": "3a396137-a9ee-49ad-a011-3749188caf69"
      }
     }
    },
    "5d182c7d-9381-4688-889f-3cd8539ea105": {
     "id": "5d182c7d-9381-4688-889f-3cd8539ea105",
     "prev": "e399fd20-f054-4872-bed0-1d44725d6502",
     "regions": {
      "983dfc03-7034-49a9-944c-a9667caa5308": {
       "attrs": {
        "height": 0.8,
        "width": 0.8,
        "x": 0.1,
        "y": 0.1
       },
       "content": {
        "cell": "7d00614e-fae2-4b98-8311-67f2a9366aee",
        "part": "whole"
       },
       "id": "983dfc03-7034-49a9-944c-a9667caa5308"
      }
     }
    },
    "5d269da5-8114-48e7-99d1-75ea9cd12e1c": {
     "id": "5d269da5-8114-48e7-99d1-75ea9cd12e1c",
     "prev": "28e29ed6-6684-44e7-8423-5ac21aade69d",
     "regions": {
      "94e0350d-6615-4d92-b3ef-e3d9ea23e23c": {
       "attrs": {
        "height": 0.8,
        "width": 0.8,
        "x": 0.1,
        "y": 0.1
       },
       "content": {
        "cell": "de8c212c-3ba2-4f87-9a94-bcdee832cd22",
        "part": "whole"
       },
       "id": "94e0350d-6615-4d92-b3ef-e3d9ea23e23c"
      }
     }
    },
    "5f0555ca-9b91-4f05-92c7-14870efc282d": {
     "id": "5f0555ca-9b91-4f05-92c7-14870efc282d",
     "prev": "8e9d98bb-8e9e-4248-8d83-ff295f7307d7",
     "regions": {
      "ef7d03d2-853b-4e27-ac15-879f6d5fe108": {
       "attrs": {
        "height": 0.8,
        "width": 0.8,
        "x": 0.1,
        "y": 0.1
       },
       "content": {
        "cell": "6ca286ca-bdcf-4e0b-8790-815336fa7e5d",
        "part": "whole"
       },
       "id": "ef7d03d2-853b-4e27-ac15-879f6d5fe108"
      }
     }
    },
    "6198c108-c6de-4455-9e22-e81a733c5ae3": {
     "id": "6198c108-c6de-4455-9e22-e81a733c5ae3",
     "prev": "1792a4cb-c7d4-47e6-ae6f-a31ce256a5c5",
     "regions": {
      "e349754d-90d1-47a6-a551-b9f18db334ff": {
       "attrs": {
        "height": 0.8,
        "width": 0.8,
        "x": 0.1,
        "y": 0.1
       },
       "content": {
        "cell": "7644eaed-28fc-45ac-a358-d2b81cbd0009",
        "part": "whole"
       },
       "id": "e349754d-90d1-47a6-a551-b9f18db334ff"
      }
     }
    },
    "61a948c0-3cc1-48c5-a61c-1533047239d0": {
     "id": "61a948c0-3cc1-48c5-a61c-1533047239d0",
     "prev": "a329a217-226d-43f0-bf74-05dc1c971278",
     "regions": {
      "8549607a-1a69-4bd9-9c38-f5a4c38cad56": {
       "attrs": {
        "height": 0.8,
        "width": 0.8,
        "x": 0.1,
        "y": 0.1
       },
       "content": {
        "cell": "bf38515e-d1fa-40f2-a381-9d7c51321672",
        "part": "whole"
       },
       "id": "8549607a-1a69-4bd9-9c38-f5a4c38cad56"
      }
     }
    },
    "621d0a6a-8226-4903-bd01-f1cb1e752b1a": {
     "id": "621d0a6a-8226-4903-bd01-f1cb1e752b1a",
     "prev": "744892a0-0181-42e9-ba70-aceff15649d8",
     "regions": {
      "5903940e-df94-4406-97eb-c9971b2d738f": {
       "attrs": {
        "height": 0.8,
        "width": 0.8,
        "x": 0.1,
        "y": 0.1
       },
       "content": {
        "cell": "2c5c7285-21b7-45ae-a0ed-3990c974d3a9",
        "part": "whole"
       },
       "id": "5903940e-df94-4406-97eb-c9971b2d738f"
      }
     }
    },
    "626bff26-0849-4886-9547-17f72c3e0a28": {
     "id": "626bff26-0849-4886-9547-17f72c3e0a28",
     "prev": "61a948c0-3cc1-48c5-a61c-1533047239d0",
     "regions": {
      "8111a242-46de-47d7-b369-480e4f966349": {
       "attrs": {
        "height": 0.8,
        "width": 0.8,
        "x": 0.1,
        "y": 0.1
       },
       "content": {
        "cell": "a77c0481-0bbf-4568-9000-07772e34aa83",
        "part": "whole"
       },
       "id": "8111a242-46de-47d7-b369-480e4f966349"
      }
     }
    },
    "633f1e27-de5d-480a-a8df-1fa8ef4ed25e": {
     "id": "633f1e27-de5d-480a-a8df-1fa8ef4ed25e",
     "prev": "8b64d519-89b5-4460-9eca-a19e7640dd1e",
     "regions": {
      "41230778-0c19-4a37-945b-84356e8a3e57": {
       "attrs": {
        "height": 0.8,
        "width": 0.8,
        "x": 0.1,
        "y": 0.1
       },
       "content": {
        "cell": "bf63d311-0aab-40be-8c7c-ae7d499ef92d",
        "part": "whole"
       },
       "id": "41230778-0c19-4a37-945b-84356e8a3e57"
      }
     }
    },
    "64a1d866-41f6-45bc-bc45-b90c6df2a7a3": {
     "id": "64a1d866-41f6-45bc-bc45-b90c6df2a7a3",
     "prev": "cfd1c07a-6110-4cff-82dd-d918a500ca58",
     "regions": {
      "a2bfedbe-3513-4ed9-a2e7-5285a15b5ecc": {
       "attrs": {
        "height": 0.8,
        "width": 0.8,
        "x": 0.1,
        "y": 0.1
       },
       "content": {
        "cell": "3710b189-6450-420a-95bd-2ba7722f2ac7",
        "part": "whole"
       },
       "id": "a2bfedbe-3513-4ed9-a2e7-5285a15b5ecc"
      }
     }
    },
    "68b6bda0-d70c-4682-89cc-a7267c6b1eff": {
     "id": "68b6bda0-d70c-4682-89cc-a7267c6b1eff",
     "prev": "69e2e0de-1f73-4ff4-826c-df405664faba",
     "regions": {
      "74a0e191-1ee6-492b-9390-afc3c0c8671f": {
       "attrs": {
        "height": 0.8,
        "width": 0.8,
        "x": 0.1,
        "y": 0.1
       },
       "content": {
        "cell": "c164744c-1ed8-449b-b557-262a7920585b",
        "part": "whole"
       },
       "id": "74a0e191-1ee6-492b-9390-afc3c0c8671f"
      }
     }
    },
    "69e2e0de-1f73-4ff4-826c-df405664faba": {
     "id": "69e2e0de-1f73-4ff4-826c-df405664faba",
     "prev": "5986c8b5-70a6-451b-8fa5-cb60ba643006",
     "regions": {
      "ad3ddcd2-c964-4c33-babe-640de81dbfe0": {
       "attrs": {
        "height": 0.8,
        "width": 0.8,
        "x": 0.1,
        "y": 0.1
       },
       "content": {
        "cell": "77a81564-76e7-49b7-bf27-a1636cdc2de5",
        "part": "whole"
       },
       "id": "ad3ddcd2-c964-4c33-babe-640de81dbfe0"
      }
     }
    },
    "6ac33898-ba06-4cc3-a0e9-a157d86f7351": {
     "id": "6ac33898-ba06-4cc3-a0e9-a157d86f7351",
     "prev": "9e49350e-8c1a-4ead-8a4f-a600c51241ae",
     "regions": {
      "fd1f4d45-ce72-46ae-8b9f-0c60ec418a9d": {
       "attrs": {
        "height": 0.8,
        "width": 0.8,
        "x": 0.1,
        "y": 0.1
       },
       "content": {
        "cell": "c1419c32-24a6-44a6-88a4-bc0d23f400ca",
        "part": "whole"
       },
       "id": "fd1f4d45-ce72-46ae-8b9f-0c60ec418a9d"
      }
     }
    },
    "6add932f-8b62-4aec-9f29-5368e4a0ec05": {
     "id": "6add932f-8b62-4aec-9f29-5368e4a0ec05",
     "prev": "c2f83f7b-cb3c-4976-b681-167d2e76023d",
     "regions": {
      "a38e1831-5fe1-479e-8766-257577a71e23": {
       "attrs": {
        "height": 0.8,
        "width": 0.8,
        "x": 0.1,
        "y": 0.1
       },
       "content": {
        "cell": "0bb034ee-7940-471d-a488-32d66b78de6b",
        "part": "whole"
       },
       "id": "a38e1831-5fe1-479e-8766-257577a71e23"
      }
     }
    },
    "6bf5682e-0f31-4f09-9d04-c58875d896a5": {
     "id": "6bf5682e-0f31-4f09-9d04-c58875d896a5",
     "prev": "ec3476a1-ba59-4fdd-9655-93fd9c5997b4",
     "regions": {
      "6e8dc1b2-ee64-4cde-b8a6-d9a07fc80dbe": {
       "attrs": {
        "height": 0.8,
        "width": 0.8,
        "x": 0.1,
        "y": 0.1
       },
       "content": {
        "cell": "24fdb113-0ad6-4a3a-b308-af0a4986f6e2",
        "part": "whole"
       },
       "id": "6e8dc1b2-ee64-4cde-b8a6-d9a07fc80dbe"
      }
     }
    },
    "6c2f6ae4-f6d2-4394-a9ff-5b5e5e2a815a": {
     "id": "6c2f6ae4-f6d2-4394-a9ff-5b5e5e2a815a",
     "prev": "e8892b08-4099-4e2f-a30c-249a80da65f6",
     "regions": {
      "076856a5-61cd-4fb0-9195-ebde8c67eb34": {
       "attrs": {
        "height": 0.8,
        "width": 0.8,
        "x": 0.1,
        "y": 0.1
       },
       "content": {
        "cell": "2f9d8344-bb34-4c75-8f16-a72e88eacb08",
        "part": "whole"
       },
       "id": "076856a5-61cd-4fb0-9195-ebde8c67eb34"
      }
     }
    },
    "6dbee9a1-6840-4d8f-b1d4-ad7be3632bc8": {
     "id": "6dbee9a1-6840-4d8f-b1d4-ad7be3632bc8",
     "prev": "c59f7d22-efc2-4160-abf4-5e2b432b3f4e",
     "regions": {
      "67953f6a-e58a-4949-9b66-fac3ac875cc6": {
       "attrs": {
        "height": 0.8,
        "width": 0.8,
        "x": 0.1,
        "y": 0.1
       },
       "content": {
        "cell": "504b9d26-f056-44ac-b85c-8d3c93b3d214",
        "part": "whole"
       },
       "id": "67953f6a-e58a-4949-9b66-fac3ac875cc6"
      }
     }
    },
    "6f37e1ea-7c02-4832-8b83-79d3e51a43a5": {
     "id": "6f37e1ea-7c02-4832-8b83-79d3e51a43a5",
     "prev": "2ddf67d5-b63b-47c3-88fa-f356d57dc5d1",
     "regions": {
      "d4b1f3aa-76a2-42c9-86cb-3ca8ad9acbc6": {
       "attrs": {
        "height": 0.8,
        "width": 0.8,
        "x": 0.1,
        "y": 0.1
       },
       "content": {
        "cell": "f360ecec-cb18-4e14-94a7-ea2f4bf1e569",
        "part": "whole"
       },
       "id": "d4b1f3aa-76a2-42c9-86cb-3ca8ad9acbc6"
      }
     }
    },
    "6f696c16-f3d1-4f6e-a311-0c3f31cac9f3": {
     "id": "6f696c16-f3d1-4f6e-a311-0c3f31cac9f3",
     "prev": "76125ec2-46ad-4d25-8824-ac1811776a75",
     "regions": {
      "3144d6ff-7d21-44d5-9882-740775662e49": {
       "attrs": {
        "height": 0.8,
        "width": 0.8,
        "x": 0.1,
        "y": 0.1
       },
       "content": {
        "cell": "2a43f008-03bd-43f1-8e3e-2ef7490f5c2b",
        "part": "whole"
       },
       "id": "3144d6ff-7d21-44d5-9882-740775662e49"
      }
     }
    },
    "701697ff-cd45-4a42-877d-0c2c2492904d": {
     "id": "701697ff-cd45-4a42-877d-0c2c2492904d",
     "prev": "64a1d866-41f6-45bc-bc45-b90c6df2a7a3",
     "regions": {
      "c7741f85-9df8-42d8-b63c-7b4d1f7c0764": {
       "attrs": {
        "height": 0.8,
        "width": 0.8,
        "x": 0.1,
        "y": 0.1
       },
       "content": {
        "cell": "5d3f36c9-0fa9-41a8-93cd-6c4289a59362",
        "part": "whole"
       },
       "id": "c7741f85-9df8-42d8-b63c-7b4d1f7c0764"
      }
     }
    },
    "71347889-c168-47af-bfb5-42eff429180a": {
     "id": "71347889-c168-47af-bfb5-42eff429180a",
     "prev": "0e21f4de-57ed-4b46-bca8-5192019cc3de",
     "regions": {
      "0e51fb0e-e8ad-4d02-90f7-b55ee29b4fd0": {
       "attrs": {
        "height": 0.8,
        "width": 0.8,
        "x": 0.1,
        "y": 0.1
       },
       "content": {
        "cell": "16164829-d2e3-4af1-ab7e-36cc2c78f698",
        "part": "whole"
       },
       "id": "0e51fb0e-e8ad-4d02-90f7-b55ee29b4fd0"
      }
     }
    },
    "732bf0d6-fe60-46e6-b863-2d299f834c36": {
     "id": "732bf0d6-fe60-46e6-b863-2d299f834c36",
     "prev": "27b2736b-6142-4a8a-a5c6-aeb903512f12",
     "regions": {
      "69f90618-1790-4907-b3de-23c841b3cb4f": {
       "attrs": {
        "height": 0.8,
        "width": 0.8,
        "x": 0.1,
        "y": 0.1
       },
       "content": {
        "cell": "254867da-35fc-4d84-825c-8caa8a5065d4",
        "part": "whole"
       },
       "id": "69f90618-1790-4907-b3de-23c841b3cb4f"
      }
     }
    },
    "73a1046d-5fc1-411e-bb1e-1295c6142e4f": {
     "id": "73a1046d-5fc1-411e-bb1e-1295c6142e4f",
     "prev": "f1ce1f65-2f7a-4bdf-804a-4aa4a53414b2",
     "regions": {
      "eaa1f8f3-5e2e-41a7-b8de-e8b1e9f1cf89": {
       "attrs": {
        "height": 0.8,
        "width": 0.8,
        "x": 0.1,
        "y": 0.1
       },
       "content": {
        "cell": "88880f8d-2380-4a54-bce7-ad9db55f102c",
        "part": "whole"
       },
       "id": "eaa1f8f3-5e2e-41a7-b8de-e8b1e9f1cf89"
      }
     }
    },
    "744892a0-0181-42e9-ba70-aceff15649d8": {
     "id": "744892a0-0181-42e9-ba70-aceff15649d8",
     "prev": "6dbee9a1-6840-4d8f-b1d4-ad7be3632bc8",
     "regions": {
      "6d6d7637-7e5b-4994-80fd-f4f23785c250": {
       "attrs": {
        "height": 0.8,
        "width": 0.8,
        "x": 0.1,
        "y": 0.1
       },
       "content": {
        "cell": "6aa07598-f3b2-477e-9398-95d00a4b6e81",
        "part": "whole"
       },
       "id": "6d6d7637-7e5b-4994-80fd-f4f23785c250"
      }
     }
    },
    "76125ec2-46ad-4d25-8824-ac1811776a75": {
     "id": "76125ec2-46ad-4d25-8824-ac1811776a75",
     "prev": "3477fc1d-0b40-49d0-a889-0d230435ce98",
     "regions": {
      "c7325937-06c4-4e13-b078-99a4060784b3": {
       "attrs": {
        "height": 0.8,
        "width": 0.8,
        "x": 0.1,
        "y": 0.1
       },
       "content": {
        "cell": "4751d06c-1a43-45eb-a93d-5c07299fd61f",
        "part": "whole"
       },
       "id": "c7325937-06c4-4e13-b078-99a4060784b3"
      }
     }
    },
    "763445e1-603d-44d6-a208-22f8826309aa": {
     "id": "763445e1-603d-44d6-a208-22f8826309aa",
     "prev": "ae78f38c-3d0b-4e35-960f-9015845ad926",
     "regions": {
      "e0879839-1653-4ac6-81e2-57a63a5e848d": {
       "attrs": {
        "height": 0.8,
        "width": 0.8,
        "x": 0.1,
        "y": 0.1
       },
       "content": {
        "cell": "207f0a5d-8acb-4dff-aeeb-56e84a0a469b",
        "part": "whole"
       },
       "id": "e0879839-1653-4ac6-81e2-57a63a5e848d"
      }
     }
    },
    "77020329-e59f-405d-b993-a07343140838": {
     "id": "77020329-e59f-405d-b993-a07343140838",
     "prev": "caa91582-795f-4d0f-bed3-baeb8a2eb540",
     "regions": {
      "3ee0d2a3-268d-412e-a1bf-6977505e8d30": {
       "attrs": {
        "height": 0.8,
        "width": 0.8,
        "x": 0.1,
        "y": 0.1
       },
       "content": {
        "cell": "9709c6a4-eb8c-4d9b-aaaf-048d100cd346",
        "part": "whole"
       },
       "id": "3ee0d2a3-268d-412e-a1bf-6977505e8d30"
      }
     }
    },
    "775ab0c4-a8bf-4744-875f-1de3c40c3b82": {
     "id": "775ab0c4-a8bf-4744-875f-1de3c40c3b82",
     "prev": "7ad66ea3-72a8-4db8-9aec-e31e4bb309b6",
     "regions": {
      "b0030b51-7f27-42bd-a314-86294b7bdb2e": {
       "attrs": {
        "height": 0.8,
        "width": 0.8,
        "x": 0.1,
        "y": 0.1
       },
       "content": {
        "cell": "5f405052-6ede-49a6-83ee-56739d816ded",
        "part": "whole"
       },
       "id": "b0030b51-7f27-42bd-a314-86294b7bdb2e"
      }
     }
    },
    "787d56be-12e5-450e-9984-73675db5131d": {
     "id": "787d56be-12e5-450e-9984-73675db5131d",
     "prev": "37f57ce6-e47f-4e9d-a004-b671e930e9d1",
     "regions": {
      "e2d8016d-125a-4769-b3e3-254878bc3044": {
       "attrs": {
        "height": 0.8,
        "width": 0.8,
        "x": 0.1,
        "y": 0.1
       },
       "content": {
        "cell": "c00920f8-01d8-4bf9-9efa-b481dca180a0",
        "part": "whole"
       },
       "id": "e2d8016d-125a-4769-b3e3-254878bc3044"
      }
     }
    },
    "7ad66ea3-72a8-4db8-9aec-e31e4bb309b6": {
     "id": "7ad66ea3-72a8-4db8-9aec-e31e4bb309b6",
     "prev": "d5064941-d820-482a-b870-e1e4c0f1a8a3",
     "regions": {
      "2b840292-677b-452c-a599-01932ab11f40": {
       "attrs": {
        "height": 0.8,
        "width": 0.8,
        "x": 0.1,
        "y": 0.1
       },
       "content": {
        "cell": "a263ed43-f12d-48c8-92e4-f46ab3d190ec",
        "part": "whole"
       },
       "id": "2b840292-677b-452c-a599-01932ab11f40"
      }
     }
    },
    "7b974f5e-d7e1-47e9-8501-dcd67c9049ae": {
     "id": "7b974f5e-d7e1-47e9-8501-dcd67c9049ae",
     "prev": "996905a8-06cc-4eb6-b096-160e3f6ab975",
     "regions": {
      "47b9beb4-9c6e-4e0d-ab55-1abd1102d9a2": {
       "attrs": {
        "height": 0.8,
        "width": 0.8,
        "x": 0.1,
        "y": 0.1
       },
       "content": {
        "cell": "b05b17c1-c1b2-4cd2-885c-9d4d2e43323d",
        "part": "whole"
       },
       "id": "47b9beb4-9c6e-4e0d-ab55-1abd1102d9a2"
      }
     }
    },
    "7baf36d0-df46-46e8-b081-9e6d0f2a4daf": {
     "id": "7baf36d0-df46-46e8-b081-9e6d0f2a4daf",
     "prev": "0e660068-d5de-4bf4-8003-d1819007ff2b",
     "regions": {
      "bf554337-b864-445a-97b8-db34faf72f4a": {
       "attrs": {
        "height": 0.8,
        "width": 0.8,
        "x": 0.1,
        "y": 0.1
       },
       "content": {
        "cell": "bac873dd-fef4-471b-8ed9-943cb207ebc2",
        "part": "whole"
       },
       "id": "bf554337-b864-445a-97b8-db34faf72f4a"
      }
     }
    },
    "7d5052df-c1de-4c51-ac15-3f1b186b248b": {
     "id": "7d5052df-c1de-4c51-ac15-3f1b186b248b",
     "prev": "ef357950-e5a4-44b3-bef3-c9456b5e3ee8",
     "regions": {
      "f4d868d3-5cc7-4f97-a13b-03ecb23f5e2f": {
       "attrs": {
        "height": 0.8,
        "width": 0.8,
        "x": 0.1,
        "y": 0.1
       },
       "content": {
        "cell": "8419e81d-87b2-421e-b0e7-d04969d35479",
        "part": "whole"
       },
       "id": "f4d868d3-5cc7-4f97-a13b-03ecb23f5e2f"
      }
     }
    },
    "7e55f2b4-90c4-48f9-a300-20884b391521": {
     "id": "7e55f2b4-90c4-48f9-a300-20884b391521",
     "prev": "579b5085-d8c8-4ff9-9701-d86b984d066e",
     "regions": {
      "a8602773-5fb6-4e9f-813b-c361cd4d58dd": {
       "attrs": {
        "height": 0.8,
        "width": 0.8,
        "x": 0.1,
        "y": 0.1
       },
       "content": {
        "cell": "03a14c03-d71f-4e42-9817-3ef9f546b29b",
        "part": "whole"
       },
       "id": "a8602773-5fb6-4e9f-813b-c361cd4d58dd"
      }
     }
    },
    "7f8587d6-5ece-4a83-bbc1-c9a7cbd17626": {
     "id": "7f8587d6-5ece-4a83-bbc1-c9a7cbd17626",
     "prev": "9424e623-9a97-48ee-afaa-6f02e400572b",
     "regions": {
      "caaad5ff-cad0-4c12-b923-dc5e5b7eeb31": {
       "attrs": {
        "height": 0.8,
        "width": 0.8,
        "x": 0.1,
        "y": 0.1
       },
       "content": {
        "cell": "835daf4f-bc85-4d23-9544-7057fdd03072",
        "part": "whole"
       },
       "id": "caaad5ff-cad0-4c12-b923-dc5e5b7eeb31"
      }
     }
    },
    "830047e2-6188-4669-a87d-91ae45fd2e10": {
     "id": "830047e2-6188-4669-a87d-91ae45fd2e10",
     "prev": "0d0068f3-6f23-4613-8292-ed0f7856e410",
     "regions": {
      "983e86df-65c3-488f-bb41-8ee4b26ef6db": {
       "attrs": {
        "height": 0.8,
        "width": 0.8,
        "x": 0.1,
        "y": 0.1
       },
       "content": {
        "cell": "f7d17061-fd4e-4605-8886-0c0724fcfba3",
        "part": "whole"
       },
       "id": "983e86df-65c3-488f-bb41-8ee4b26ef6db"
      }
     }
    },
    "83cd31ff-62e0-4ec4-b6bf-4c7fe1a03db6": {
     "id": "83cd31ff-62e0-4ec4-b6bf-4c7fe1a03db6",
     "prev": "cd45e55d-5a5c-4f4e-9e5e-f91dbbe35691",
     "regions": {
      "2082a75f-5a96-4e71-b3de-443f0d5f43b6": {
       "attrs": {
        "height": 0.8,
        "width": 0.8,
        "x": 0.1,
        "y": 0.1
       },
       "content": {
        "cell": "d6966604-5e54-470e-8eed-c928beab1540",
        "part": "whole"
       },
       "id": "2082a75f-5a96-4e71-b3de-443f0d5f43b6"
      }
     }
    },
    "867b12f7-7427-4948-b079-f7b341250ebf": {
     "id": "867b12f7-7427-4948-b079-f7b341250ebf",
     "prev": "96b60232-1de5-4e0c-bc5c-3e0077a58628",
     "regions": {
      "b75dff48-f70d-403e-bbcb-efae27d25d11": {
       "attrs": {
        "height": 0.8,
        "width": 0.8,
        "x": 0.1,
        "y": 0.1
       },
       "content": {
        "cell": "95bd6e33-fe2d-4367-88f3-fe0862b76de0",
        "part": "whole"
       },
       "id": "b75dff48-f70d-403e-bbcb-efae27d25d11"
      }
     }
    },
    "86bee47f-7fa4-41a4-a763-a8f214664e1b": {
     "id": "86bee47f-7fa4-41a4-a763-a8f214664e1b",
     "prev": "04535bd9-ef6b-4095-a475-2e40b181cc79",
     "regions": {
      "625791ff-ccda-4994-8b67-8a4a5648d5a7": {
       "attrs": {
        "height": 0.8,
        "width": 0.8,
        "x": 0.1,
        "y": 0.1
       },
       "content": {
        "cell": "6f9cae44-8913-481b-a7b4-137b369d66a0",
        "part": "whole"
       },
       "id": "625791ff-ccda-4994-8b67-8a4a5648d5a7"
      }
     }
    },
    "879f0091-dfa6-468a-b04f-cec14c89412f": {
     "id": "879f0091-dfa6-468a-b04f-cec14c89412f",
     "prev": "32b90e1b-aa9f-4ae1-912f-dcf04e17b610",
     "regions": {
      "b5a44c98-f776-4d25-b0a2-5a971157ec01": {
       "attrs": {
        "height": 0.8,
        "width": 0.8,
        "x": 0.1,
        "y": 0.1
       },
       "content": {
        "cell": "8111a913-147b-4e19-845e-c5c36b3090cd",
        "part": "whole"
       },
       "id": "b5a44c98-f776-4d25-b0a2-5a971157ec01"
      }
     }
    },
    "8b64d519-89b5-4460-9eca-a19e7640dd1e": {
     "id": "8b64d519-89b5-4460-9eca-a19e7640dd1e",
     "prev": "d033e243-c4d0-4f5e-8f33-939a1e3a28a9",
     "regions": {
      "6a33130d-df38-4fd7-8a92-3d41855e61a2": {
       "attrs": {
        "height": 0.8,
        "width": 0.8,
        "x": 0.1,
        "y": 0.1
       },
       "content": {
        "cell": "20b44229-ce1e-4d9d-8ec1-e947bfb70a36",
        "part": "whole"
       },
       "id": "6a33130d-df38-4fd7-8a92-3d41855e61a2"
      }
     }
    },
    "8bcaf737-a0c9-407e-9cf6-b669e559b8df": {
     "id": "8bcaf737-a0c9-407e-9cf6-b669e559b8df",
     "prev": "8e74a0ec-4403-48e6-a19c-e0dcc621468b",
     "regions": {
      "a8c60817-671a-433b-a556-5f806d5139b7": {
       "attrs": {
        "height": 0.8,
        "width": 0.8,
        "x": 0.1,
        "y": 0.1
       },
       "content": {
        "cell": "7a28c3b8-764c-42b2-a318-91c1927b5092",
        "part": "whole"
       },
       "id": "a8c60817-671a-433b-a556-5f806d5139b7"
      }
     }
    },
    "8c82f4a8-9e47-49eb-9830-34c48a705046": {
     "id": "8c82f4a8-9e47-49eb-9830-34c48a705046",
     "prev": "e34eb7ff-4f8c-4068-a4fc-152303c9d26e",
     "regions": {
      "30548aeb-b313-43f3-a648-c95b54df065f": {
       "attrs": {
        "height": 0.8,
        "width": 0.8,
        "x": 0.1,
        "y": 0.1
       },
       "content": {
        "cell": "eb750acd-2b89-4219-b1b6-62572cfc7534",
        "part": "whole"
       },
       "id": "30548aeb-b313-43f3-a648-c95b54df065f"
      }
     }
    },
    "8e74a0ec-4403-48e6-a19c-e0dcc621468b": {
     "id": "8e74a0ec-4403-48e6-a19c-e0dcc621468b",
     "prev": "08ed2649-9be1-44c4-ba23-de77cdd8c86a",
     "regions": {
      "5c11c4c2-a74a-4443-89fa-2d35a69e9f28": {
       "attrs": {
        "height": 0.8,
        "width": 0.8,
        "x": 0.1,
        "y": 0.1
       },
       "content": {
        "cell": "6c93ab54-8075-4309-a77a-b88ace0ba6c4",
        "part": "whole"
       },
       "id": "5c11c4c2-a74a-4443-89fa-2d35a69e9f28"
      }
     }
    },
    "8e9d98bb-8e9e-4248-8d83-ff295f7307d7": {
     "id": "8e9d98bb-8e9e-4248-8d83-ff295f7307d7",
     "prev": "50113a6e-974b-4643-819b-51a08799955e",
     "regions": {
      "fe01c9a4-63da-4916-af28-2b45d2069fc6": {
       "attrs": {
        "height": 0.8,
        "width": 0.8,
        "x": 0.1,
        "y": 0.1
       },
       "content": {
        "cell": "a5909d81-c522-4abe-b587-73096cc70578",
        "part": "whole"
       },
       "id": "fe01c9a4-63da-4916-af28-2b45d2069fc6"
      }
     }
    },
    "913c57a8-a954-4bcd-8980-31473d1b511d": {
     "id": "913c57a8-a954-4bcd-8980-31473d1b511d",
     "prev": "1c291a10-e5fb-4cf9-9b78-f89436181a4a",
     "regions": {
      "c4ece02c-5155-4f4c-8d6f-cad7a7a63ebe": {
       "attrs": {
        "height": 0.8,
        "width": 0.8,
        "x": 0.1,
        "y": 0.1
       },
       "content": {
        "cell": "f86a5f88-d06d-48c3-a17f-7c9f103cd911",
        "part": "whole"
       },
       "id": "c4ece02c-5155-4f4c-8d6f-cad7a7a63ebe"
      }
     }
    },
    "9217a19b-eb0a-41ec-a147-2a42275aec26": {
     "id": "9217a19b-eb0a-41ec-a147-2a42275aec26",
     "prev": "afc5304e-7071-4e01-8666-8e2ce49c0aae",
     "regions": {
      "686fe234-a018-44be-90a7-5c273dbe769b": {
       "attrs": {
        "height": 0.8,
        "width": 0.8,
        "x": 0.1,
        "y": 0.1
       },
       "content": {
        "cell": "fd408d13-5d95-4d85-9d56-2b0d68c8454e",
        "part": "whole"
       },
       "id": "686fe234-a018-44be-90a7-5c273dbe769b"
      }
     }
    },
    "9424e623-9a97-48ee-afaa-6f02e400572b": {
     "id": "9424e623-9a97-48ee-afaa-6f02e400572b",
     "prev": "ef7131df-f0e7-4c6f-bdc3-f167c2c5d4c0",
     "regions": {
      "8899e8f4-6e3b-4919-929f-e99ec7d5f632": {
       "attrs": {
        "height": 0.8,
        "width": 0.8,
        "x": 0.1,
        "y": 0.1
       },
       "content": {
        "cell": "0bd9cb33-20ca-469d-8bf0-24f0b38ba0d7",
        "part": "whole"
       },
       "id": "8899e8f4-6e3b-4919-929f-e99ec7d5f632"
      }
     }
    },
    "96b60232-1de5-4e0c-bc5c-3e0077a58628": {
     "id": "96b60232-1de5-4e0c-bc5c-3e0077a58628",
     "prev": "be3bfc02-72ac-4adc-a6cd-8ba466987eef",
     "regions": {
      "3a8ac721-1146-46e4-badd-e9fa18a5a483": {
       "attrs": {
        "height": 0.8,
        "width": 0.8,
        "x": 0.1,
        "y": 0.1
       },
       "content": {
        "cell": "e1fa269c-7be6-4dbd-9be1-a2d0c6d62dd8",
        "part": "whole"
       },
       "id": "3a8ac721-1146-46e4-badd-e9fa18a5a483"
      }
     }
    },
    "96c5cd35-0228-4cff-bf22-28a498e1a708": {
     "id": "96c5cd35-0228-4cff-bf22-28a498e1a708",
     "prev": "bb0a9f96-2c08-4063-b48f-ec0b61efffd4",
     "regions": {
      "4037a524-1035-4620-b3b7-53a952d48387": {
       "attrs": {
        "height": 0.8,
        "width": 0.8,
        "x": 0.1,
        "y": 0.1
       },
       "content": {
        "cell": "0c962e1a-c929-418d-9844-b21a38de7237",
        "part": "whole"
       },
       "id": "4037a524-1035-4620-b3b7-53a952d48387"
      }
     }
    },
    "996905a8-06cc-4eb6-b096-160e3f6ab975": {
     "id": "996905a8-06cc-4eb6-b096-160e3f6ab975",
     "prev": "c56bc3c1-b589-4573-b829-28e4f1c45f02",
     "regions": {
      "f9f680f8-4624-4d7d-9608-299a747d2b59": {
       "attrs": {
        "height": 0.8,
        "width": 0.8,
        "x": 0.1,
        "y": 0.1
       },
       "content": {
        "cell": "55c49efa-b790-4953-b98f-e505369f1c91",
        "part": "whole"
       },
       "id": "f9f680f8-4624-4d7d-9608-299a747d2b59"
      }
     }
    },
    "9bc25433-11b1-4677-8fde-452c77195271": {
     "id": "9bc25433-11b1-4677-8fde-452c77195271",
     "prev": "71347889-c168-47af-bfb5-42eff429180a",
     "regions": {
      "5b61945c-d297-4804-b664-8bcb00dd39b2": {
       "attrs": {
        "height": 0.8,
        "width": 0.8,
        "x": 0.1,
        "y": 0.1
       },
       "content": {
        "cell": "c1fb7f36-1084-44c7-bdeb-7793637e353c",
        "part": "whole"
       },
       "id": "5b61945c-d297-4804-b664-8bcb00dd39b2"
      }
     }
    },
    "9c1b74df-b2d1-4028-a019-c11cee217f49": {
     "id": "9c1b74df-b2d1-4028-a019-c11cee217f49",
     "prev": "57166f66-3101-4022-899f-603898b4e7bc",
     "regions": {
      "bb33fd3e-b074-44ae-bfb0-559d9f5e661b": {
       "attrs": {
        "height": 0.8,
        "width": 0.8,
        "x": 0.1,
        "y": 0.1
       },
       "content": {
        "cell": "f35d8ab8-c0b5-422b-ad56-a2b522002e5b",
        "part": "whole"
       },
       "id": "bb33fd3e-b074-44ae-bfb0-559d9f5e661b"
      }
     }
    },
    "9dec4584-0aae-454a-b040-0411b88773b0": {
     "id": "9dec4584-0aae-454a-b040-0411b88773b0",
     "prev": "2d3137e4-774e-4e59-bf37-c85a7cdf539a",
     "regions": {
      "b6649f16-66b1-401f-8984-a946445c90af": {
       "attrs": {
        "height": 0.8,
        "width": 0.8,
        "x": 0.1,
        "y": 0.1
       },
       "content": {
        "cell": "9d352191-bc99-4ecf-9296-71fe8bd88967",
        "part": "whole"
       },
       "id": "b6649f16-66b1-401f-8984-a946445c90af"
      }
     }
    },
    "9e49350e-8c1a-4ead-8a4f-a600c51241ae": {
     "id": "9e49350e-8c1a-4ead-8a4f-a600c51241ae",
     "prev": "830047e2-6188-4669-a87d-91ae45fd2e10",
     "regions": {
      "aaec81f2-6c05-4a71-a65c-4b029e3e8056": {
       "attrs": {
        "height": 0.8,
        "width": 0.8,
        "x": 0.1,
        "y": 0.1
       },
       "content": {
        "cell": "9a6063c7-f4a8-4862-8d9d-c8c92a2c5350",
        "part": "whole"
       },
       "id": "aaec81f2-6c05-4a71-a65c-4b029e3e8056"
      }
     }
    },
    "9e5665a0-419e-4331-aed0-8087f11ff2ce": {
     "id": "9e5665a0-419e-4331-aed0-8087f11ff2ce",
     "prev": "1637ad4f-478d-4c44-b323-62889ee6d909",
     "regions": {
      "59fd0d5a-3e8c-4fef-a4e7-a2951a79a434": {
       "attrs": {
        "height": 0.8,
        "width": 0.8,
        "x": 0.1,
        "y": 0.1
       },
       "content": {
        "cell": "f01f7063-1453-4cf6-b898-9ebc51e6f29c",
        "part": "whole"
       },
       "id": "59fd0d5a-3e8c-4fef-a4e7-a2951a79a434"
      }
     }
    },
    "9f7cf2be-8caa-479f-b0f2-33670ce5f15f": {
     "id": "9f7cf2be-8caa-479f-b0f2-33670ce5f15f",
     "prev": "bbf9250d-6aa6-4a75-aa27-25f639e5a12d",
     "regions": {
      "3f6ce7c3-c509-454b-89b6-fe9897b40bba": {
       "attrs": {
        "height": 0.8,
        "width": 0.8,
        "x": 0.1,
        "y": 0.1
       },
       "content": {
        "cell": "8043e705-8112-4e3b-90b6-a0d0d1ce52c3",
        "part": "whole"
       },
       "id": "3f6ce7c3-c509-454b-89b6-fe9897b40bba"
      }
     }
    },
    "a1c6ebab-485c-44b3-9b3a-355805d59058": {
     "id": "a1c6ebab-485c-44b3-9b3a-355805d59058",
     "prev": "621d0a6a-8226-4903-bd01-f1cb1e752b1a",
     "regions": {
      "275a0871-6e89-4456-9b63-4c4b19b1ef4b": {
       "attrs": {
        "height": 0.8,
        "width": 0.8,
        "x": 0.1,
        "y": 0.1
       },
       "content": {
        "cell": "9128aadf-a72a-4adf-9856-7e33bcc4eb45",
        "part": "whole"
       },
       "id": "275a0871-6e89-4456-9b63-4c4b19b1ef4b"
      }
     }
    },
    "a2e668ca-a29f-40c0-b871-92027a88dd1e": {
     "id": "a2e668ca-a29f-40c0-b871-92027a88dd1e",
     "prev": "a3b68e22-27a6-46b6-9a35-1ba56435eb42",
     "regions": {
      "19a73183-7ed3-419f-9e49-df67d3294335": {
       "attrs": {
        "height": 0.8,
        "width": 0.8,
        "x": 0.1,
        "y": 0.1
       },
       "content": {
        "cell": "58c8d06c-87d3-47a6-8bae-6b4d42dec587",
        "part": "whole"
       },
       "id": "19a73183-7ed3-419f-9e49-df67d3294335"
      }
     }
    },
    "a3143fec-95ac-4204-9c41-3f7c1be9e094": {
     "id": "a3143fec-95ac-4204-9c41-3f7c1be9e094",
     "prev": "da346b92-e42d-4b1b-b93d-47df2cd05a21",
     "regions": {
      "eac3fe04-58e4-42ee-843e-362a5a03d26a": {
       "attrs": {
        "height": 0.8,
        "width": 0.8,
        "x": 0.1,
        "y": 0.1
       },
       "content": {
        "cell": "8284df2d-3626-4fb8-8f08-e87e070e6df2",
        "part": "whole"
       },
       "id": "eac3fe04-58e4-42ee-843e-362a5a03d26a"
      }
     }
    },
    "a329a217-226d-43f0-bf74-05dc1c971278": {
     "id": "a329a217-226d-43f0-bf74-05dc1c971278",
     "prev": "b550886d-2d2a-408d-980f-707af16f2ae1",
     "regions": {
      "1f5f2790-aeb6-410d-ae45-f6d0f99db4f9": {
       "attrs": {
        "height": 0.8,
        "width": 0.8,
        "x": 0.1,
        "y": 0.1
       },
       "content": {
        "cell": "8fd9a24d-7d95-476e-b0b2-864bcd87ac63",
        "part": "whole"
       },
       "id": "1f5f2790-aeb6-410d-ae45-f6d0f99db4f9"
      }
     }
    },
    "a34fb588-8d0c-4774-b1c8-ab882d630d0e": {
     "id": "a34fb588-8d0c-4774-b1c8-ab882d630d0e",
     "prev": "bcc2c127-6e18-408d-bbaf-d1cd026a0b68",
     "regions": {
      "cb6373f4-1c4f-42c0-b4bf-9ac12f2a3401": {
       "attrs": {
        "height": 0.8,
        "width": 0.8,
        "x": 0.1,
        "y": 0.1
       },
       "content": {
        "cell": "ad4668a5-e41e-4034-9500-1d52a7ab7516",
        "part": "whole"
       },
       "id": "cb6373f4-1c4f-42c0-b4bf-9ac12f2a3401"
      }
     }
    },
    "a38dd62d-998c-42d1-a8b7-31e909a93e7e": {
     "id": "a38dd62d-998c-42d1-a8b7-31e909a93e7e",
     "prev": "5a3807db-84c7-413d-8876-ecb7e130ce2e",
     "regions": {
      "114a2b3e-969d-4c67-83e7-2c30a88b9d4a": {
       "attrs": {
        "height": 0.8,
        "width": 0.8,
        "x": 0.1,
        "y": 0.1
       },
       "content": {
        "cell": "467e5939-ba6e-4f1e-83f7-c32da288a2d6",
        "part": "whole"
       },
       "id": "114a2b3e-969d-4c67-83e7-2c30a88b9d4a"
      }
     }
    },
    "a3a18a69-cb7f-4370-a216-38991c7d8b74": {
     "id": "a3a18a69-cb7f-4370-a216-38991c7d8b74",
     "prev": "775ab0c4-a8bf-4744-875f-1de3c40c3b82",
     "regions": {
      "5472da0e-0222-4989-ba34-3289f0a9808f": {
       "attrs": {
        "height": 0.8,
        "width": 0.8,
        "x": 0.1,
        "y": 0.1
       },
       "content": {
        "cell": "3847422e-ea3f-4646-9f85-43375742b147",
        "part": "whole"
       },
       "id": "5472da0e-0222-4989-ba34-3289f0a9808f"
      }
     }
    },
    "a3b68e22-27a6-46b6-9a35-1ba56435eb42": {
     "id": "a3b68e22-27a6-46b6-9a35-1ba56435eb42",
     "prev": "0947878a-d607-4a36-9685-bd4178b6ce3c",
     "regions": {
      "de41d090-f4db-47e8-8106-9dee708e1db0": {
       "attrs": {
        "height": 0.8,
        "width": 0.8,
        "x": 0.1,
        "y": 0.1
       },
       "content": {
        "cell": "2edbbca1-8602-4c76-abaa-0ffa00ffeb64",
        "part": "whole"
       },
       "id": "de41d090-f4db-47e8-8106-9dee708e1db0"
      }
     }
    },
    "a6349790-de9e-4723-912b-ff943da65960": {
     "id": "a6349790-de9e-4723-912b-ff943da65960",
     "prev": "9bc25433-11b1-4677-8fde-452c77195271",
     "regions": {
      "edbe9ccb-eeff-46ec-bcfe-1ce6d779647c": {
       "attrs": {
        "height": 0.8,
        "width": 0.8,
        "x": 0.1,
        "y": 0.1
       },
       "content": {
        "cell": "ca011496-f8cf-4180-bf4a-7120230e558a",
        "part": "whole"
       },
       "id": "edbe9ccb-eeff-46ec-bcfe-1ce6d779647c"
      }
     }
    },
    "a6bb41c8-4672-45c4-bace-de60551a935f": {
     "id": "a6bb41c8-4672-45c4-bace-de60551a935f",
     "prev": "aa40a7ba-69aa-4603-a87d-c1f1be6dff07",
     "regions": {
      "95dce7e1-d28e-4f4e-b26a-b53826d6d044": {
       "attrs": {
        "height": 0.8,
        "width": 0.8,
        "x": 0.1,
        "y": 0.1
       },
       "content": {
        "cell": "9e99800b-eaa6-4614-b73a-fad0c8de57c0",
        "part": "whole"
       },
       "id": "95dce7e1-d28e-4f4e-b26a-b53826d6d044"
      }
     }
    },
    "a9dda65f-83e2-40e9-9c1d-3fcdf2fabd73": {
     "id": "a9dda65f-83e2-40e9-9c1d-3fcdf2fabd73",
     "prev": "359a6de6-4a17-46c3-b4f0-7f4241ca7fce",
     "regions": {
      "054d49cd-a124-48de-b56b-e9ad73a38367": {
       "attrs": {
        "height": 0.8,
        "width": 0.8,
        "x": 0.1,
        "y": 0.1
       },
       "content": {
        "cell": "8fbe3f11-17f5-4ef6-be89-7ae91b3873c9",
        "part": "whole"
       },
       "id": "054d49cd-a124-48de-b56b-e9ad73a38367"
      }
     }
    },
    "aa326643-637a-4c8e-8299-7f4b08037b9f": {
     "id": "aa326643-637a-4c8e-8299-7f4b08037b9f",
     "prev": "a6349790-de9e-4723-912b-ff943da65960",
     "regions": {
      "b2763d86-d09e-47a8-bdf4-c2365e9f2f3b": {
       "attrs": {
        "height": 0.8,
        "width": 0.8,
        "x": 0.1,
        "y": 0.1
       },
       "content": {
        "cell": "c241ccec-e94a-4416-a0d5-c9653d372156",
        "part": "whole"
       },
       "id": "b2763d86-d09e-47a8-bdf4-c2365e9f2f3b"
      }
     }
    },
    "aa40a7ba-69aa-4603-a87d-c1f1be6dff07": {
     "id": "aa40a7ba-69aa-4603-a87d-c1f1be6dff07",
     "prev": "b661434d-a88d-4b0e-87fe-2a1d02da3c77",
     "regions": {
      "7e523e89-5576-4ae1-acc6-eadac9fbfc77": {
       "attrs": {
        "height": 0.8,
        "width": 0.8,
        "x": 0.1,
        "y": 0.1
       },
       "content": {
        "cell": "59bbd269-d9b1-44aa-a67e-fdddcfd57fac",
        "part": "whole"
       },
       "id": "7e523e89-5576-4ae1-acc6-eadac9fbfc77"
      }
     }
    },
    "ae58b0be-9c35-45a7-adb1-62b375d78d7c": {
     "id": "ae58b0be-9c35-45a7-adb1-62b375d78d7c",
     "prev": "633f1e27-de5d-480a-a8df-1fa8ef4ed25e",
     "regions": {
      "7ba2a00d-92a3-4acd-b365-4cec79ebef73": {
       "attrs": {
        "height": 0.8,
        "width": 0.8,
        "x": 0.1,
        "y": 0.1
       },
       "content": {
        "cell": "7504f4fd-2c1b-473d-bd39-791b8421a970",
        "part": "whole"
       },
       "id": "7ba2a00d-92a3-4acd-b365-4cec79ebef73"
      }
     }
    },
    "ae78f38c-3d0b-4e35-960f-9015845ad926": {
     "id": "ae78f38c-3d0b-4e35-960f-9015845ad926",
     "prev": "68b6bda0-d70c-4682-89cc-a7267c6b1eff",
     "regions": {
      "93f228b4-76e6-46a4-942c-c92e9e60149a": {
       "attrs": {
        "height": 0.8,
        "width": 0.8,
        "x": 0.1,
        "y": 0.1
       },
       "content": {
        "cell": "09bb8c8b-6b64-4a3d-8b29-4f38c631e844",
        "part": "whole"
       },
       "id": "93f228b4-76e6-46a4-942c-c92e9e60149a"
      }
     },
     "theme": "47bb9acb-e0f6-4b7b-a467-ffb438456aa4"
    },
    "afc5304e-7071-4e01-8666-8e2ce49c0aae": {
     "id": "afc5304e-7071-4e01-8666-8e2ce49c0aae",
     "prev": "a3a18a69-cb7f-4370-a216-38991c7d8b74",
     "regions": {
      "81a334b1-658c-43da-99a3-9d9667844b5f": {
       "attrs": {
        "height": 0.8,
        "width": 0.8,
        "x": 0.1,
        "y": 0.1
       },
       "content": {
        "cell": "661c229f-f692-4128-9cea-64799fdf6df2",
        "part": "whole"
       },
       "id": "81a334b1-658c-43da-99a3-9d9667844b5f"
      }
     }
    },
    "b0205232-8966-4a75-b04b-fa32556cdfef": {
     "id": "b0205232-8966-4a75-b04b-fa32556cdfef",
     "prev": "0ee2c0b0-263d-468b-9e53-7ffd79657964",
     "regions": {
      "59bec3dd-6b72-41dd-b375-d4b5777b9106": {
       "attrs": {
        "height": 0.8,
        "width": 0.8,
        "x": 0.1,
        "y": 0.1
       },
       "content": {
        "cell": "710f7956-436b-447d-a726-3cf558c9e2b4",
        "part": "whole"
       },
       "id": "59bec3dd-6b72-41dd-b375-d4b5777b9106"
      }
     }
    },
    "b15f72d7-1b8d-4c9f-88dc-92919c240e16": {
     "id": "b15f72d7-1b8d-4c9f-88dc-92919c240e16",
     "prev": "fc75ba41-5b92-4fda-94f8-9dbfdbc7da79",
     "regions": {
      "e9d3b322-04ac-45c3-bb62-5ac48ee98ee2": {
       "attrs": {
        "height": 0.8,
        "width": 0.8,
        "x": 0.1,
        "y": 0.1
       },
       "content": {
        "cell": "a8632386-f11e-43b1-9b07-2a7054cd41dd",
        "part": "whole"
       },
       "id": "e9d3b322-04ac-45c3-bb62-5ac48ee98ee2"
      }
     }
    },
    "b2b234eb-1beb-48e9-bd82-eabe3f54dbae": {
     "id": "b2b234eb-1beb-48e9-bd82-eabe3f54dbae",
     "prev": "24441077-d25b-4e28-bc39-b63cb04d3b79",
     "regions": {
      "5379d23b-13c2-4315-85ea-30dee5db466b": {
       "attrs": {
        "height": 0.8,
        "width": 0.8,
        "x": 0.1,
        "y": 0.1
       },
       "content": {
        "cell": "24d114b7-a0bb-4f85-a345-60c96ac4db89",
        "part": "whole"
       },
       "id": "5379d23b-13c2-4315-85ea-30dee5db466b"
      }
     }
    },
    "b550886d-2d2a-408d-980f-707af16f2ae1": {
     "id": "b550886d-2d2a-408d-980f-707af16f2ae1",
     "prev": "58b6e184-7a25-400a-a1a2-5040d77184fb",
     "regions": {
      "d0ec9db0-50db-429f-b61d-5c1e185dccd8": {
       "attrs": {
        "height": 0.8,
        "width": 0.8,
        "x": 0.1,
        "y": 0.1
       },
       "content": {
        "cell": "347c2aba-10a6-4b3d-ad86-01a366459c7c",
        "part": "whole"
       },
       "id": "d0ec9db0-50db-429f-b61d-5c1e185dccd8"
      }
     }
    },
    "b661434d-a88d-4b0e-87fe-2a1d02da3c77": {
     "id": "b661434d-a88d-4b0e-87fe-2a1d02da3c77",
     "prev": "787d56be-12e5-450e-9984-73675db5131d",
     "regions": {
      "f880b2c3-9600-41ac-b309-587a2f780ae9": {
       "attrs": {
        "height": 0.8,
        "width": 0.8,
        "x": 0.1,
        "y": 0.1
       },
       "content": {
        "cell": "ed12fb97-091c-4ee1-abf3-2acf74caa42a",
        "part": "whole"
       },
       "id": "f880b2c3-9600-41ac-b309-587a2f780ae9"
      }
     }
    },
    "b6dea48b-72dd-41ab-976a-6f5ea2bba092": {
     "id": "b6dea48b-72dd-41ab-976a-6f5ea2bba092",
     "prev": "12b115a9-4c2f-464d-ba7b-7ea133dcc798",
     "regions": {
      "9b5896f2-897c-48b7-8c1e-90973d66c95b": {
       "attrs": {
        "height": 0.8,
        "width": 0.8,
        "x": 0.1,
        "y": 0.1
       },
       "content": {
        "cell": "d41e1984-ee5a-48fd-ae9f-31367a8c1f3a",
        "part": "whole"
       },
       "id": "9b5896f2-897c-48b7-8c1e-90973d66c95b"
      }
     }
    },
    "bae44841-a930-45c2-abff-d28d28de3b4c": {
     "id": "bae44841-a930-45c2-abff-d28d28de3b4c",
     "prev": "8c82f4a8-9e47-49eb-9830-34c48a705046",
     "regions": {
      "29bbba0e-7531-4755-b80f-ee389a0d485c": {
       "attrs": {
        "height": 0.8,
        "width": 0.8,
        "x": 0.1,
        "y": 0.1
       },
       "content": {
        "cell": "bc7a5fcb-641b-4a06-b770-272a6ddd9067",
        "part": "whole"
       },
       "id": "29bbba0e-7531-4755-b80f-ee389a0d485c"
      }
     }
    },
    "bb0a9f96-2c08-4063-b48f-ec0b61efffd4": {
     "id": "bb0a9f96-2c08-4063-b48f-ec0b61efffd4",
     "prev": "cff253a2-65b4-4d83-b7a9-ee13726b956b",
     "regions": {
      "b74e3b8c-97b9-4581-8c2f-bc20764d81a2": {
       "attrs": {
        "height": 0.8,
        "width": 0.8,
        "x": 0.1,
        "y": 0.1
       },
       "content": {
        "cell": "345233eb-980b-474e-8156-0bc8529b0928",
        "part": "whole"
       },
       "id": "b74e3b8c-97b9-4581-8c2f-bc20764d81a2"
      }
     }
    },
    "bbf9250d-6aa6-4a75-aa27-25f639e5a12d": {
     "id": "bbf9250d-6aa6-4a75-aa27-25f639e5a12d",
     "prev": "24a1ceca-785a-499d-a8ae-bc02041b5da9",
     "regions": {
      "45d60e92-f8c3-4ea9-9b02-f4ed10b2c2fa": {
       "attrs": {
        "height": 0.8,
        "width": 0.8,
        "x": 0.1,
        "y": 0.1
       },
       "content": {
        "cell": "9d0e889e-175b-4f11-b7b8-eb5eca1054ed",
        "part": "whole"
       },
       "id": "45d60e92-f8c3-4ea9-9b02-f4ed10b2c2fa"
      }
     }
    },
    "bcc2c127-6e18-408d-bbaf-d1cd026a0b68": {
     "id": "bcc2c127-6e18-408d-bbaf-d1cd026a0b68",
     "prev": "6f696c16-f3d1-4f6e-a311-0c3f31cac9f3",
     "regions": {
      "2d1d87fd-5f15-4eb7-9d27-7e11cb95bb21": {
       "attrs": {
        "height": 0.8,
        "width": 0.8,
        "x": 0.1,
        "y": 0.1
       },
       "content": {
        "cell": "afea09f1-71d5-4fc6-8d9b-a9b3766c2fdb",
        "part": "whole"
       },
       "id": "2d1d87fd-5f15-4eb7-9d27-7e11cb95bb21"
      }
     }
    },
    "bdf7a5f0-b096-46b3-9039-ac955be06f44": {
     "id": "bdf7a5f0-b096-46b3-9039-ac955be06f44",
     "prev": "39c26525-3859-4d62-9b25-95fa04c21283",
     "regions": {
      "0330d618-42b4-40e3-97c2-30607f1c80ed": {
       "attrs": {
        "height": 0.8,
        "width": 0.8,
        "x": 0.1,
        "y": 0.1
       },
       "content": {
        "cell": "7a33dbf4-3585-4af2-bc71-bbd87120cdcb",
        "part": "whole"
       },
       "id": "0330d618-42b4-40e3-97c2-30607f1c80ed"
      }
     }
    },
    "be3bfc02-72ac-4adc-a6cd-8ba466987eef": {
     "id": "be3bfc02-72ac-4adc-a6cd-8ba466987eef",
     "prev": "4d922012-d02b-429e-b1f5-1dc776397f56",
     "regions": {
      "a3b90314-a9e7-46d9-a112-d245d0a4157b": {
       "attrs": {
        "height": 0.8,
        "width": 0.8,
        "x": 0.1,
        "y": 0.1
       },
       "content": {
        "cell": "abd6ddab-e84d-46ad-ae54-7d2d8c5bab11",
        "part": "whole"
       },
       "id": "a3b90314-a9e7-46d9-a112-d245d0a4157b"
      }
     }
    },
    "c03c2fe4-14a9-4a69-8033-41295af1e554": {
     "id": "c03c2fe4-14a9-4a69-8033-41295af1e554",
     "prev": "b15f72d7-1b8d-4c9f-88dc-92919c240e16",
     "regions": {
      "e163ab97-c122-49e4-a85d-7a10fd29d103": {
       "attrs": {
        "height": 0.8,
        "width": 0.8,
        "x": 0.1,
        "y": 0.1
       },
       "content": {
        "cell": "164630db-cd1b-4ced-8999-bac9c8da77ef",
        "part": "whole"
       },
       "id": "e163ab97-c122-49e4-a85d-7a10fd29d103"
      }
     }
    },
    "c2f83f7b-cb3c-4976-b681-167d2e76023d": {
     "id": "c2f83f7b-cb3c-4976-b681-167d2e76023d",
     "prev": "116ba7c2-76f3-4c40-b550-2ffebdeb625f",
     "regions": {
      "a57526a0-9bab-4e9b-b69e-5fc92e07ec36": {
       "attrs": {
        "height": 0.8,
        "width": 0.8,
        "x": 0.1,
        "y": 0.1
       },
       "content": {
        "cell": "3c72b3f8-3240-45b2-ac73-8614df84fa5e",
        "part": "whole"
       },
       "id": "a57526a0-9bab-4e9b-b69e-5fc92e07ec36"
      }
     }
    },
    "c56bc3c1-b589-4573-b829-28e4f1c45f02": {
     "id": "c56bc3c1-b589-4573-b829-28e4f1c45f02",
     "prev": "d2070e49-1f82-4287-9ead-8af957713e86",
     "regions": {
      "394c0ce4-ea13-4049-ada4-8995d0fbbd30": {
       "attrs": {
        "height": 0.8,
        "width": 0.8,
        "x": 0.1,
        "y": 0.1
       },
       "content": {
        "cell": "5fa08020-d210-4b60-be94-d9e5849cb9d0",
        "part": "whole"
       },
       "id": "394c0ce4-ea13-4049-ada4-8995d0fbbd30"
      }
     }
    },
    "c59f7d22-efc2-4160-abf4-5e2b432b3f4e": {
     "id": "c59f7d22-efc2-4160-abf4-5e2b432b3f4e",
     "prev": "3236259e-9718-4eb6-9bb6-a1949ddc969a",
     "regions": {
      "7edce916-7c53-44e4-9f1a-94fcdd3cfd3b": {
       "attrs": {
        "height": 0.8,
        "width": 0.8,
        "x": 0.1,
        "y": 0.1
       },
       "content": {
        "cell": "e65df47b-845b-43ff-887a-a2e303ceaf68",
        "part": "whole"
       },
       "id": "7edce916-7c53-44e4-9f1a-94fcdd3cfd3b"
      }
     }
    },
    "c7deee0c-1ccf-46d9-a51e-ca9b49e449c7": {
     "id": "c7deee0c-1ccf-46d9-a51e-ca9b49e449c7",
     "prev": "fdd53036-6b25-44c3-8008-1a8950f65ea2",
     "regions": {
      "2268b92d-d37c-4594-9172-34b8986cd8b9": {
       "attrs": {
        "height": 0.8,
        "width": 0.8,
        "x": 0.1,
        "y": 0.1
       },
       "content": {
        "cell": "daca13df-d47f-44d9-8e90-d1b7660851c3",
        "part": "whole"
       },
       "id": "2268b92d-d37c-4594-9172-34b8986cd8b9"
      }
     }
    },
    "c89b7210-e956-4242-b3f6-231edc3b9731": {
     "id": "c89b7210-e956-4242-b3f6-231edc3b9731",
     "prev": "26c57f6a-c921-4490-93cd-77b3c79b1991",
     "regions": {
      "030b7cb6-7da1-4e30-b3b2-46d6513a548d": {
       "attrs": {
        "height": 0.8,
        "width": 0.8,
        "x": 0.1,
        "y": 0.1
       },
       "content": {
        "cell": "fde731d6-5149-4ee8-ad30-cf2bc9c5e32b",
        "part": "whole"
       },
       "id": "030b7cb6-7da1-4e30-b3b2-46d6513a548d"
      }
     }
    },
    "ca0e315e-0f45-467d-81ca-2c88a93ce8f3": {
     "id": "ca0e315e-0f45-467d-81ca-2c88a93ce8f3",
     "prev": "b6dea48b-72dd-41ab-976a-6f5ea2bba092",
     "regions": {
      "3c957e68-d52c-42bb-8f5c-df40c7cb0ffa": {
       "attrs": {
        "height": 0.8,
        "width": 0.8,
        "x": 0.1,
        "y": 0.1
       },
       "content": {
        "cell": "1a85efb9-4d82-473b-acd2-128833db8a86",
        "part": "whole"
       },
       "id": "3c957e68-d52c-42bb-8f5c-df40c7cb0ffa"
      }
     }
    },
    "caa91582-795f-4d0f-bed3-baeb8a2eb540": {
     "id": "caa91582-795f-4d0f-bed3-baeb8a2eb540",
     "prev": "3700475a-6cd3-4052-bccc-c936f49ac1c6",
     "regions": {
      "4f216bd6-1bbb-482b-bcad-e9253cdc34e7": {
       "attrs": {
        "height": 0.8,
        "width": 0.8,
        "x": 0.1,
        "y": 0.1
       },
       "content": {
        "cell": "7e7b4e2f-7e4e-499c-9a58-80e9393dfccb",
        "part": "whole"
       },
       "id": "4f216bd6-1bbb-482b-bcad-e9253cdc34e7"
      }
     }
    },
    "cc1014ab-b6c2-4c45-aad3-f08702debe87": {
     "id": "cc1014ab-b6c2-4c45-aad3-f08702debe87",
     "prev": "b0205232-8966-4a75-b04b-fa32556cdfef",
     "regions": {
      "62b1c4e1-be07-4d5b-9dc4-ed8108c8a280": {
       "attrs": {
        "height": 0.8,
        "width": 0.8,
        "x": 0.1,
        "y": 0.1
       },
       "content": {
        "cell": "00d604aa-562c-4ba8-9696-792740c4b40f",
        "part": "whole"
       },
       "id": "62b1c4e1-be07-4d5b-9dc4-ed8108c8a280"
      }
     }
    },
    "cd45e55d-5a5c-4f4e-9e5e-f91dbbe35691": {
     "id": "cd45e55d-5a5c-4f4e-9e5e-f91dbbe35691",
     "prev": "329163e0-0f30-4ed0-8c96-d79f8c645a18",
     "regions": {
      "3522739d-f0c8-4f4f-be66-5c4b62114740": {
       "attrs": {
        "height": 0.8,
        "width": 0.8,
        "x": 0.1,
        "y": 0.1
       },
       "content": {
        "cell": "6553d322-bd20-4e5c-a1cd-58e7b074b8dd",
        "part": "whole"
       },
       "id": "3522739d-f0c8-4f4f-be66-5c4b62114740"
      }
     }
    },
    "cfd1c07a-6110-4cff-82dd-d918a500ca58": {
     "id": "cfd1c07a-6110-4cff-82dd-d918a500ca58",
     "prev": "0f91ec57-0bdf-4dcb-96e5-cde750ee66d6",
     "regions": {
      "12090408-836a-421e-84ff-687e2d5062bc": {
       "attrs": {
        "height": 0.8,
        "width": 0.8,
        "x": 0.1,
        "y": 0.1
       },
       "content": {
        "cell": "f636dae1-f0d9-4ffa-a83c-c306977ba8f7",
        "part": "whole"
       },
       "id": "12090408-836a-421e-84ff-687e2d5062bc"
      }
     }
    },
    "cff253a2-65b4-4d83-b7a9-ee13726b956b": {
     "id": "cff253a2-65b4-4d83-b7a9-ee13726b956b",
     "prev": "541e05f4-3f1a-483e-9aa1-c97e956c9a52",
     "regions": {
      "f4a700e7-30d5-43b9-863e-5f9c2a4aed73": {
       "attrs": {
        "height": 0.8,
        "width": 0.8,
        "x": 0.1,
        "y": 0.1
       },
       "content": {
        "cell": "2120f2d5-76b6-4e67-a243-8fa7a5d45cd7",
        "part": "whole"
       },
       "id": "f4a700e7-30d5-43b9-863e-5f9c2a4aed73"
      }
     }
    },
    "d033e243-c4d0-4f5e-8f33-939a1e3a28a9": {
     "id": "d033e243-c4d0-4f5e-8f33-939a1e3a28a9",
     "prev": "aa326643-637a-4c8e-8299-7f4b08037b9f",
     "regions": {
      "12a946d5-c9f4-4657-81ad-07f271264f78": {
       "attrs": {
        "height": 0.8,
        "width": 0.8,
        "x": 0.1,
        "y": 0.1
       },
       "content": {
        "cell": "c7d3fa71-f6a0-43d2-adc6-8a78dc74a93b",
        "part": "whole"
       },
       "id": "12a946d5-c9f4-4657-81ad-07f271264f78"
      }
     }
    },
    "d2070e49-1f82-4287-9ead-8af957713e86": {
     "id": "d2070e49-1f82-4287-9ead-8af957713e86",
     "prev": "20a841d0-a1e7-43e9-b71c-7843d54a68e5",
     "regions": {
      "3c9aaf7c-a1db-4f8f-9b52-ffd3a5f9f26f": {
       "attrs": {
        "height": 0.8,
        "width": 0.8,
        "x": 0.1,
        "y": 0.1
       },
       "content": {
        "cell": "83255b8a-0e3b-4bc1-ab54-82e08866c04f",
        "part": "whole"
       },
       "id": "3c9aaf7c-a1db-4f8f-9b52-ffd3a5f9f26f"
      }
     }
    },
    "d33ff74c-27e0-48f8-807a-8e564035e50b": {
     "id": "d33ff74c-27e0-48f8-807a-8e564035e50b",
     "prev": "4b47b2ba-acad-4e8d-ab33-9a2b63a06999",
     "regions": {
      "dfda341c-beee-41f1-90c3-d1de44cb956f": {
       "attrs": {
        "height": 0.8,
        "width": 0.8,
        "x": 0.1,
        "y": 0.1
       },
       "content": {
        "cell": "89df01a1-de60-4ae0-b58a-e18acb386198",
        "part": "whole"
       },
       "id": "dfda341c-beee-41f1-90c3-d1de44cb956f"
      }
     }
    },
    "d440a85f-0146-420d-9a93-452143210f4a": {
     "id": "d440a85f-0146-420d-9a93-452143210f4a",
     "prev": "257637b3-dacc-4990-924d-13a83aa532f4",
     "regions": {
      "4ce0c36e-2c9e-4cfc-a60a-a6a7375d32f1": {
       "attrs": {
        "height": 0.8,
        "width": 0.8,
        "x": 0.1,
        "y": 0.1
       },
       "content": {
        "cell": "781ec376-f9b4-4bd1-acbf-a2968db34b8b",
        "part": "whole"
       },
       "id": "4ce0c36e-2c9e-4cfc-a60a-a6a7375d32f1"
      }
     }
    },
    "d47b1559-aba6-4e6b-a314-02816246f86c": {
     "id": "d47b1559-aba6-4e6b-a314-02816246f86c",
     "prev": "a6bb41c8-4672-45c4-bace-de60551a935f",
     "regions": {
      "69649409-6dc7-44f8-b661-d73508fa1456": {
       "attrs": {
        "height": 0.8,
        "width": 0.8,
        "x": 0.1,
        "y": 0.1
       },
       "content": {
        "cell": "f6333c15-9cd9-4f74-8ced-85284b847681",
        "part": "whole"
       },
       "id": "69649409-6dc7-44f8-b661-d73508fa1456"
      }
     }
    },
    "d5064941-d820-482a-b870-e1e4c0f1a8a3": {
     "id": "d5064941-d820-482a-b870-e1e4c0f1a8a3",
     "prev": "a34fb588-8d0c-4774-b1c8-ab882d630d0e",
     "regions": {
      "f1e0d8ca-7a83-4657-b517-bbba63b37b37": {
       "attrs": {
        "height": 0.8,
        "width": 0.8,
        "x": 0.1,
        "y": 0.1
       },
       "content": {
        "cell": "7588da9f-049d-4573-a93f-06383b040f9f",
        "part": "whole"
       },
       "id": "f1e0d8ca-7a83-4657-b517-bbba63b37b37"
      }
     }
    },
    "d76fd7e0-60be-49a2-8d1e-3c1922d9704e": {
     "id": "d76fd7e0-60be-49a2-8d1e-3c1922d9704e",
     "prev": "37319440-43ee-4d26-8836-4cd83299aa75",
     "regions": {
      "9bba9780-c205-4e5f-a56d-c177116ebf39": {
       "attrs": {
        "height": 0.8,
        "width": 0.8,
        "x": 0.1,
        "y": 0.1
       },
       "content": {
        "cell": "d1578356-a093-4155-ab8d-ec39db09c55d",
        "part": "whole"
       },
       "id": "9bba9780-c205-4e5f-a56d-c177116ebf39"
      }
     }
    },
    "da346b92-e42d-4b1b-b93d-47df2cd05a21": {
     "id": "da346b92-e42d-4b1b-b93d-47df2cd05a21",
     "prev": "01c466c9-505d-4818-80dd-e77a6a1089e4",
     "regions": {
      "f21c9cbd-0d12-436b-8db6-69e259fc709a": {
       "attrs": {
        "height": 0.8,
        "width": 0.8,
        "x": 0.1,
        "y": 0.1
       },
       "content": {
        "cell": "15b18720-e722-431a-98a5-f7df3b7d42ed",
        "part": "whole"
       },
       "id": "f21c9cbd-0d12-436b-8db6-69e259fc709a"
      }
     }
    },
    "dd1b0eb1-2ecd-4cb5-b31d-fb37f261bf7d": {
     "id": "dd1b0eb1-2ecd-4cb5-b31d-fb37f261bf7d",
     "prev": "1a5cd7ef-7430-4ca2-ba22-a2d74761db3c",
     "regions": {
      "7baf8c40-143b-43a1-acac-9ec94bba63db": {
       "attrs": {
        "height": 0.8,
        "width": 0.8,
        "x": 0.1,
        "y": 0.1
       },
       "content": {
        "cell": "a673765d-d9ee-445d-b340-2d083286ca6c",
        "part": "whole"
       },
       "id": "7baf8c40-143b-43a1-acac-9ec94bba63db"
      }
     }
    },
    "df1bdec6-6ddc-470b-b84e-d05c8f7b076a": {
     "id": "df1bdec6-6ddc-470b-b84e-d05c8f7b076a",
     "prev": "626bff26-0849-4886-9547-17f72c3e0a28",
     "regions": {
      "3d003fb7-3c34-4f6b-9c23-c63d0bc9cfed": {
       "attrs": {
        "height": 0.8,
        "width": 0.8,
        "x": 0.1,
        "y": 0.1
       },
       "content": {
        "cell": "7e8a37ab-8a99-46e6-b151-ab51ca8e4553",
        "part": "whole"
       },
       "id": "3d003fb7-3c34-4f6b-9c23-c63d0bc9cfed"
      }
     }
    },
    "dff4d689-bb4e-43ca-9bc2-6470ca1f96ef": {
     "id": "dff4d689-bb4e-43ca-9bc2-6470ca1f96ef",
     "prev": "0cdfcce0-0391-4095-b402-5cfd6b9aa2f7",
     "regions": {
      "57878da2-5b34-42bc-8de1-97b287ac6d9d": {
       "attrs": {
        "height": 0.8,
        "width": 0.8,
        "x": 0.1,
        "y": 0.1
       },
       "content": {
        "cell": "861cf00d-a81c-4f5d-aa40-cf899eb6417e",
        "part": "whole"
       },
       "id": "57878da2-5b34-42bc-8de1-97b287ac6d9d"
      }
     }
    },
    "e0d8b2a3-b00e-4c3e-a34b-42d4717cb7b1": {
     "id": "e0d8b2a3-b00e-4c3e-a34b-42d4717cb7b1",
     "prev": "eed40385-28f9-4913-b70d-47c4ee634a77",
     "regions": {
      "0bdddb4c-4ce9-4253-9817-1d1d6eccf5a5": {
       "attrs": {
        "height": 0.8,
        "width": 0.8,
        "x": 0.1,
        "y": 0.1
       },
       "content": {
        "cell": "359fa208-2764-4108-a049-88bca12f42d7",
        "part": "whole"
       },
       "id": "0bdddb4c-4ce9-4253-9817-1d1d6eccf5a5"
      }
     }
    },
    "e199be0b-0af9-4f49-87d7-2ae0ac2dfe42": {
     "id": "e199be0b-0af9-4f49-87d7-2ae0ac2dfe42",
     "prev": "9e5665a0-419e-4331-aed0-8087f11ff2ce",
     "regions": {
      "ff56b503-0293-4b49-b8b5-a408b36100a8": {
       "attrs": {
        "height": 0.8,
        "width": 0.8,
        "x": 0.1,
        "y": 0.1
       },
       "content": {
        "cell": "7f04e9e4-4645-4905-a9d8-a6d4db41d57e",
        "part": "whole"
       },
       "id": "ff56b503-0293-4b49-b8b5-a408b36100a8"
      }
     }
    },
    "e34eb7ff-4f8c-4068-a4fc-152303c9d26e": {
     "id": "e34eb7ff-4f8c-4068-a4fc-152303c9d26e",
     "prev": "0c4761fa-af5a-4eb5-8bff-e73e94f8b31f",
     "regions": {
      "c9257738-316c-43d8-8a46-2f0aed641d79": {
       "attrs": {
        "height": 0.8,
        "width": 0.8,
        "x": 0.1,
        "y": 0.1
       },
       "content": {
        "cell": "fc1e4ed1-3163-496a-a546-3b19fbd72361",
        "part": "whole"
       },
       "id": "c9257738-316c-43d8-8a46-2f0aed641d79"
      }
     }
    },
    "e399fd20-f054-4872-bed0-1d44725d6502": {
     "id": "e399fd20-f054-4872-bed0-1d44725d6502",
     "prev": "332263da-55f7-4d38-8723-b68e53c37d52",
     "regions": {
      "98aea759-ac85-4d93-a878-f4dfa1131c2a": {
       "attrs": {
        "height": 0.8,
        "width": 0.8,
        "x": 0.1,
        "y": 0.1
       },
       "content": {
        "cell": "a666b8b7-f49d-4885-a49c-e6c0bff71122",
        "part": "whole"
       },
       "id": "98aea759-ac85-4d93-a878-f4dfa1131c2a"
      }
     }
    },
    "e8892b08-4099-4e2f-a30c-249a80da65f6": {
     "id": "e8892b08-4099-4e2f-a30c-249a80da65f6",
     "prev": "7b974f5e-d7e1-47e9-8501-dcd67c9049ae",
     "regions": {
      "cbf86485-63f5-4a30-a993-32e0f54fca81": {
       "attrs": {
        "height": 0.8,
        "width": 0.8,
        "x": 0.1,
        "y": 0.1
       },
       "content": {
        "cell": "359471f5-f4d0-457c-b5b4-49548405ac04",
        "part": "whole"
       },
       "id": "cbf86485-63f5-4a30-a993-32e0f54fca81"
      }
     }
    },
    "ec3476a1-ba59-4fdd-9655-93fd9c5997b4": {
     "id": "ec3476a1-ba59-4fdd-9655-93fd9c5997b4",
     "prev": "0dcd59fb-40a4-4ce8-a19a-3a2c1d41aeb8",
     "regions": {
      "e8f5275d-61fc-4e04-8a93-0b2dba50a016": {
       "attrs": {
        "height": 0.8,
        "width": 0.8,
        "x": 0.1,
        "y": 0.1
       },
       "content": {
        "cell": "d11e0291-42f1-4eaa-9800-5275fc10257b",
        "part": "whole"
       },
       "id": "e8f5275d-61fc-4e04-8a93-0b2dba50a016"
      }
     }
    },
    "eed40385-28f9-4913-b70d-47c4ee634a77": {
     "id": "eed40385-28f9-4913-b70d-47c4ee634a77",
     "prev": "206bc849-90a2-43db-827b-1231f5c07a8e",
     "regions": {
      "c9d9c7b3-9aa2-4fb0-94c1-d5866e92561e": {
       "attrs": {
        "height": 0.8,
        "width": 0.8,
        "x": 0.1,
        "y": 0.1
       },
       "content": {
        "cell": "64ae035d-cf82-4b55-8ea7-ec5f1f5e464b",
        "part": "whole"
       },
       "id": "c9d9c7b3-9aa2-4fb0-94c1-d5866e92561e"
      }
     }
    },
    "ef357950-e5a4-44b3-bef3-c9456b5e3ee8": {
     "id": "ef357950-e5a4-44b3-bef3-c9456b5e3ee8",
     "prev": "d440a85f-0146-420d-9a93-452143210f4a",
     "regions": {
      "2a2e0f4e-d45c-48dc-aa6a-6c886318b264": {
       "attrs": {
        "height": 0.8,
        "width": 0.8,
        "x": 0.1,
        "y": 0.1
       },
       "content": {
        "cell": "df03578a-3341-4e64-9c59-a1243038bca1",
        "part": "whole"
       },
       "id": "2a2e0f4e-d45c-48dc-aa6a-6c886318b264"
      }
     }
    },
    "ef7131df-f0e7-4c6f-bdc3-f167c2c5d4c0": {
     "id": "ef7131df-f0e7-4c6f-bdc3-f167c2c5d4c0",
     "prev": "c7deee0c-1ccf-46d9-a51e-ca9b49e449c7",
     "regions": {
      "8c5903ba-e17b-4f16-8832-24ce5eb20f24": {
       "attrs": {
        "height": 0.8,
        "width": 0.8,
        "x": 0.1,
        "y": 0.1
       },
       "content": {
        "cell": "217c485d-8019-482e-a33f-b276f0db4432",
        "part": "whole"
       },
       "id": "8c5903ba-e17b-4f16-8832-24ce5eb20f24"
      }
     }
    },
    "f1ce1f65-2f7a-4bdf-804a-4aa4a53414b2": {
     "id": "f1ce1f65-2f7a-4bdf-804a-4aa4a53414b2",
     "prev": "4c95bc0a-8158-4591-a7bd-eb18a8ce5b7a",
     "regions": {
      "cb025a0f-7e0c-4ba0-9189-e970e3317111": {
       "attrs": {
        "height": 0.8,
        "width": 0.8,
        "x": 0.1,
        "y": 0.1
       },
       "content": {
        "cell": "3241ae94-2381-4215-b725-a9637f7b9b59",
        "part": "whole"
       },
       "id": "cb025a0f-7e0c-4ba0-9189-e970e3317111"
      }
     }
    },
    "f4949dee-825b-4461-8d6d-26091954e26f": {
     "id": "f4949dee-825b-4461-8d6d-26091954e26f",
     "prev": "38122040-3d10-487d-a747-8b3239313135",
     "regions": {
      "4142a028-1b7f-4e5f-bba4-e824b9fd7094": {
       "attrs": {
        "height": 0.8,
        "width": 0.8,
        "x": 0.1,
        "y": 0.1
       },
       "content": {
        "cell": "7adadcac-14b0-46d8-810d-caa19dfcd67b",
        "part": "whole"
       },
       "id": "4142a028-1b7f-4e5f-bba4-e824b9fd7094"
      }
     }
    },
    "f773a670-a49c-4751-94a2-e9cbd9a4b83c": {
     "id": "f773a670-a49c-4751-94a2-e9cbd9a4b83c",
     "prev": "b2b234eb-1beb-48e9-bd82-eabe3f54dbae",
     "regions": {
      "869d73c5-1c4e-480a-97aa-583779614b35": {
       "attrs": {
        "height": 0.8,
        "width": 0.8,
        "x": 0.1,
        "y": 0.1
       },
       "content": {
        "cell": "4dac8ea8-b599-4cba-8cbd-2aa519c4f61f",
        "part": "whole"
       },
       "id": "869d73c5-1c4e-480a-97aa-583779614b35"
      }
     }
    },
    "f7897302-728c-4292-9e8b-b336c68cd2d1": {
     "id": "f7897302-728c-4292-9e8b-b336c68cd2d1",
     "prev": "701697ff-cd45-4a42-877d-0c2c2492904d",
     "regions": {
      "68829ecc-d5a8-4f9c-846d-0c73cce76c6e": {
       "attrs": {
        "height": 0.8,
        "width": 0.8,
        "x": 0.1,
        "y": 0.1
       },
       "content": {
        "cell": "a27e8708-d743-476c-ba13-6470c5c5120d",
        "part": "whole"
       },
       "id": "68829ecc-d5a8-4f9c-846d-0c73cce76c6e"
      }
     }
    },
    "fb05f6ad-bffc-462e-86af-c08787dba5cf": {
     "id": "fb05f6ad-bffc-462e-86af-c08787dba5cf",
     "prev": "6198c108-c6de-4455-9e22-e81a733c5ae3",
     "regions": {
      "82fa3e8b-8fc7-494f-9e1b-c9b5c5003faa": {
       "attrs": {
        "height": 0.8,
        "width": 0.8,
        "x": 0.1,
        "y": 0.1
       },
       "content": {
        "cell": "992bb3dd-6798-4e75-86bb-32b9cd040ff8",
        "part": "whole"
       },
       "id": "82fa3e8b-8fc7-494f-9e1b-c9b5c5003faa"
      }
     }
    },
    "fb425a68-d931-4921-b5b7-077e4f78e004": {
     "id": "fb425a68-d931-4921-b5b7-077e4f78e004",
     "prev": "23a86cbe-cf31-4fe0-bd5f-3110acc1ae1e",
     "regions": {
      "ad42e4d9-e362-45ff-a30d-fcf0a6771794": {
       "attrs": {
        "height": 0.8,
        "width": 0.8,
        "x": 0.1,
        "y": 0.1
       },
       "content": {
        "cell": "ae8e58c5-f3e5-4243-9635-bd6275cb08dc",
        "part": "whole"
       },
       "id": "ad42e4d9-e362-45ff-a30d-fcf0a6771794"
      }
     }
    },
    "fc75ba41-5b92-4fda-94f8-9dbfdbc7da79": {
     "id": "fc75ba41-5b92-4fda-94f8-9dbfdbc7da79",
     "prev": "e0d8b2a3-b00e-4c3e-a34b-42d4717cb7b1",
     "regions": {
      "43b3b3fb-a56d-478d-8b31-8e7cfd38206d": {
       "attrs": {
        "height": 0.8,
        "width": 0.8,
        "x": 0.1,
        "y": 0.1
       },
       "content": {
        "cell": "f84a0152-e13f-4f6c-b77c-324e987ac0a7",
        "part": "whole"
       },
       "id": "43b3b3fb-a56d-478d-8b31-8e7cfd38206d"
      }
     }
    },
    "fdd53036-6b25-44c3-8008-1a8950f65ea2": {
     "id": "fdd53036-6b25-44c3-8008-1a8950f65ea2",
     "prev": "49ce850e-5c0f-47aa-8504-2880e289d474",
     "regions": {
      "5602ee4b-e20b-4384-8b32-64522092e602": {
       "attrs": {
        "height": 0.8,
        "width": 0.8,
        "x": 0.1,
        "y": 0.1
       },
       "content": {
        "cell": "55805755-1f2f-4857-8104-a184457a1b8f",
        "part": "whole"
       },
       "id": "5602ee4b-e20b-4384-8b32-64522092e602"
      }
     }
    },
    "feb1d664-2302-4f1a-b416-0c760080cac7": {
     "id": "feb1d664-2302-4f1a-b416-0c760080cac7",
     "prev": "77020329-e59f-405d-b993-a07343140838",
     "regions": {
      "81639168-2163-4365-85a1-f3c606901f4c": {
       "attrs": {
        "height": 0.8,
        "width": 0.8,
        "x": 0.1,
        "y": 0.1
       },
       "content": {
        "cell": "efc1f06d-1fd0-4387-8973-7d2eed23d6ee",
        "part": "whole"
       },
       "id": "81639168-2163-4365-85a1-f3c606901f4c"
      }
     }
    }
   },
   "themes": {
    "default": "7e51ce42-9aff-419e-b319-84d5ed9db2fd",
    "theme": {
     "47bb9acb-e0f6-4b7b-a467-ffb438456aa4": {
      "backgrounds": {
       "dc7afa04-bf90-40b1-82a5-726e3cff5267": {
        "background-color": "31af15d2-7e15-44c5-ab5e-e04b16a89eff",
        "id": "dc7afa04-bf90-40b1-82a5-726e3cff5267"
       }
      },
      "id": "47bb9acb-e0f6-4b7b-a467-ffb438456aa4",
      "palette": {
       "19cc588f-0593-49c9-9f4b-e4d7cc113b1c": {
        "id": "19cc588f-0593-49c9-9f4b-e4d7cc113b1c",
        "rgb": [
         252,
         252,
         252
        ]
       },
       "31af15d2-7e15-44c5-ab5e-e04b16a89eff": {
        "id": "31af15d2-7e15-44c5-ab5e-e04b16a89eff",
        "rgb": [
         68,
         68,
         68
        ]
       },
       "50f92c45-a630-455b-aec3-788680ec7410": {
        "id": "50f92c45-a630-455b-aec3-788680ec7410",
        "rgb": [
         197,
         226,
         245
        ]
       },
       "c5cc3653-2ee1-402a-aba2-7caae1da4f6c": {
        "id": "c5cc3653-2ee1-402a-aba2-7caae1da4f6c",
        "rgb": [
         43,
         126,
         184
        ]
       },
       "efa7f048-9acb-414c-8b04-a26811511a21": {
        "id": "efa7f048-9acb-414c-8b04-a26811511a21",
        "rgb": [
         25.118061674008803,
         73.60176211453744,
         107.4819383259912
        ]
       }
      },
      "rules": {
       "a": {
        "color": "19cc588f-0593-49c9-9f4b-e4d7cc113b1c"
       },
       "blockquote": {
        "color": "50f92c45-a630-455b-aec3-788680ec7410",
        "font-size": 3
       },
       "code": {
        "font-family": "Anonymous Pro"
       },
       "h1": {
        "color": "19cc588f-0593-49c9-9f4b-e4d7cc113b1c",
        "font-family": "Merriweather",
        "font-size": 8
       },
       "h2": {
        "color": "19cc588f-0593-49c9-9f4b-e4d7cc113b1c",
        "font-family": "Merriweather",
        "font-size": 6
       },
       "h3": {
        "color": "50f92c45-a630-455b-aec3-788680ec7410",
        "font-family": "Lato",
        "font-size": 5.5
       },
       "h4": {
        "color": "c5cc3653-2ee1-402a-aba2-7caae1da4f6c",
        "font-family": "Lato",
        "font-size": 5
       },
       "h5": {
        "font-family": "Lato"
       },
       "h6": {
        "font-family": "Lato"
       },
       "h7": {
        "font-family": "Lato"
       },
       "li": {
        "color": "50f92c45-a630-455b-aec3-788680ec7410",
        "font-size": 3.25
       },
       "pre": {
        "font-family": "Anonymous Pro",
        "font-size": 4
       }
      },
      "text-base": {
       "color": "19cc588f-0593-49c9-9f4b-e4d7cc113b1c",
       "font-family": "Lato",
       "font-size": 4
      }
     },
     "7e51ce42-9aff-419e-b319-84d5ed9db2fd": {
      "backgrounds": {
       "dc7afa04-bf90-40b1-82a5-726e3cff5267": {
        "background-color": "31af15d2-7e15-44c5-ab5e-e04b16a89eff",
        "id": "dc7afa04-bf90-40b1-82a5-726e3cff5267"
       }
      },
      "id": "7e51ce42-9aff-419e-b319-84d5ed9db2fd",
      "palette": {
       "19cc588f-0593-49c9-9f4b-e4d7cc113b1c": {
        "id": "19cc588f-0593-49c9-9f4b-e4d7cc113b1c",
        "rgb": [
         252,
         252,
         252
        ]
       },
       "31af15d2-7e15-44c5-ab5e-e04b16a89eff": {
        "id": "31af15d2-7e15-44c5-ab5e-e04b16a89eff",
        "rgb": [
         68,
         68,
         68
        ]
       },
       "50f92c45-a630-455b-aec3-788680ec7410": {
        "id": "50f92c45-a630-455b-aec3-788680ec7410",
        "rgb": [
         197,
         226,
         245
        ]
       },
       "c5cc3653-2ee1-402a-aba2-7caae1da4f6c": {
        "id": "c5cc3653-2ee1-402a-aba2-7caae1da4f6c",
        "rgb": [
         43,
         126,
         184
        ]
       },
       "efa7f048-9acb-414c-8b04-a26811511a21": {
        "id": "efa7f048-9acb-414c-8b04-a26811511a21",
        "rgb": [
         25.118061674008803,
         73.60176211453744,
         107.4819383259912
        ]
       }
      },
      "rules": {
       "a": {
        "color": "19cc588f-0593-49c9-9f4b-e4d7cc113b1c"
       },
       "blockquote": {
        "color": "50f92c45-a630-455b-aec3-788680ec7410",
        "font-size": 3
       },
       "code": {
        "font-family": "Anonymous Pro"
       },
       "h1": {
        "color": "19cc588f-0593-49c9-9f4b-e4d7cc113b1c",
        "font-family": "Merriweather",
        "font-size": 8
       },
       "h2": {
        "color": "19cc588f-0593-49c9-9f4b-e4d7cc113b1c",
        "font-family": "Merriweather",
        "font-size": 6
       },
       "h3": {
        "color": "50f92c45-a630-455b-aec3-788680ec7410",
        "font-family": "Lato",
        "font-size": 5.5
       },
       "h4": {
        "color": "c5cc3653-2ee1-402a-aba2-7caae1da4f6c",
        "font-family": "Lato",
        "font-size": 5
       },
       "h5": {
        "font-family": "Lato"
       },
       "h6": {
        "font-family": "Lato"
       },
       "h7": {
        "font-family": "Lato"
       },
       "li": {
        "color": "50f92c45-a630-455b-aec3-788680ec7410",
        "font-size": 3.25
       },
       "pre": {
        "font-family": "Anonymous Pro",
        "font-size": 4
       }
      },
      "text-base": {
       "color": "19cc588f-0593-49c9-9f4b-e4d7cc113b1c",
       "font-family": "Lato",
       "font-size": 4
      }
     },
     "8b192049-57c6-4174-8d1a-c7a1c67843c0": {
      "backgrounds": {
       "dc7afa04-bf90-40b1-82a5-726e3cff5267": {
        "background-color": "31af15d2-7e15-44c5-ab5e-e04b16a89eff",
        "id": "dc7afa04-bf90-40b1-82a5-726e3cff5267"
       }
      },
      "id": "8b192049-57c6-4174-8d1a-c7a1c67843c0",
      "palette": {
       "19cc588f-0593-49c9-9f4b-e4d7cc113b1c": {
        "id": "19cc588f-0593-49c9-9f4b-e4d7cc113b1c",
        "rgb": [
         252,
         252,
         252
        ]
       },
       "31af15d2-7e15-44c5-ab5e-e04b16a89eff": {
        "id": "31af15d2-7e15-44c5-ab5e-e04b16a89eff",
        "rgb": [
         68,
         68,
         68
        ]
       },
       "50f92c45-a630-455b-aec3-788680ec7410": {
        "id": "50f92c45-a630-455b-aec3-788680ec7410",
        "rgb": [
         197,
         226,
         245
        ]
       },
       "c5cc3653-2ee1-402a-aba2-7caae1da4f6c": {
        "id": "c5cc3653-2ee1-402a-aba2-7caae1da4f6c",
        "rgb": [
         43,
         126,
         184
        ]
       },
       "efa7f048-9acb-414c-8b04-a26811511a21": {
        "id": "efa7f048-9acb-414c-8b04-a26811511a21",
        "rgb": [
         25.118061674008803,
         73.60176211453744,
         107.4819383259912
        ]
       }
      },
      "rules": {
       "a": {
        "color": "19cc588f-0593-49c9-9f4b-e4d7cc113b1c"
       },
       "blockquote": {
        "color": "50f92c45-a630-455b-aec3-788680ec7410",
        "font-size": 3
       },
       "code": {
        "font-family": "Anonymous Pro"
       },
       "h1": {
        "color": "19cc588f-0593-49c9-9f4b-e4d7cc113b1c",
        "font-family": "Merriweather",
        "font-size": 8
       },
       "h2": {
        "color": "19cc588f-0593-49c9-9f4b-e4d7cc113b1c",
        "font-family": "Merriweather",
        "font-size": 6
       },
       "h3": {
        "color": "50f92c45-a630-455b-aec3-788680ec7410",
        "font-family": "Lato",
        "font-size": 5.5
       },
       "h4": {
        "color": "c5cc3653-2ee1-402a-aba2-7caae1da4f6c",
        "font-family": "Lato",
        "font-size": 5
       },
       "h5": {
        "font-family": "Lato"
       },
       "h6": {
        "font-family": "Lato"
       },
       "h7": {
        "font-family": "Lato"
       },
       "li": {
        "color": "50f92c45-a630-455b-aec3-788680ec7410",
        "font-size": 3.25
       },
       "pre": {
        "font-family": "Anonymous Pro",
        "font-size": 4
       }
      },
      "text-base": {
       "color": "19cc588f-0593-49c9-9f4b-e4d7cc113b1c",
       "font-family": "Lato",
       "font-size": 4
      }
     },
     "b1cb1e6e-1c46-4bac-b288-24786d12588d": {
      "backgrounds": {
       "dc7afa04-bf90-40b1-82a5-726e3cff5267": {
        "background-color": "31af15d2-7e15-44c5-ab5e-e04b16a89eff",
        "id": "dc7afa04-bf90-40b1-82a5-726e3cff5267"
       }
      },
      "id": "b1cb1e6e-1c46-4bac-b288-24786d12588d",
      "palette": {
       "19cc588f-0593-49c9-9f4b-e4d7cc113b1c": {
        "id": "19cc588f-0593-49c9-9f4b-e4d7cc113b1c",
        "rgb": [
         252,
         252,
         252
        ]
       },
       "31af15d2-7e15-44c5-ab5e-e04b16a89eff": {
        "id": "31af15d2-7e15-44c5-ab5e-e04b16a89eff",
        "rgb": [
         68,
         68,
         68
        ]
       },
       "50f92c45-a630-455b-aec3-788680ec7410": {
        "id": "50f92c45-a630-455b-aec3-788680ec7410",
        "rgb": [
         197,
         226,
         245
        ]
       },
       "c5cc3653-2ee1-402a-aba2-7caae1da4f6c": {
        "id": "c5cc3653-2ee1-402a-aba2-7caae1da4f6c",
        "rgb": [
         43,
         126,
         184
        ]
       },
       "efa7f048-9acb-414c-8b04-a26811511a21": {
        "id": "efa7f048-9acb-414c-8b04-a26811511a21",
        "rgb": [
         25.118061674008803,
         73.60176211453744,
         107.4819383259912
        ]
       }
      },
      "rules": {
       "a": {
        "color": "19cc588f-0593-49c9-9f4b-e4d7cc113b1c"
       },
       "blockquote": {
        "color": "50f92c45-a630-455b-aec3-788680ec7410",
        "font-size": 3
       },
       "code": {
        "font-family": "Anonymous Pro"
       },
       "h1": {
        "color": "19cc588f-0593-49c9-9f4b-e4d7cc113b1c",
        "font-family": "Merriweather",
        "font-size": 8
       },
       "h2": {
        "color": "19cc588f-0593-49c9-9f4b-e4d7cc113b1c",
        "font-family": "Merriweather",
        "font-size": 6
       },
       "h3": {
        "color": "50f92c45-a630-455b-aec3-788680ec7410",
        "font-family": "Lato",
        "font-size": 5.5
       },
       "h4": {
        "color": "c5cc3653-2ee1-402a-aba2-7caae1da4f6c",
        "font-family": "Lato",
        "font-size": 5
       },
       "h5": {
        "font-family": "Lato"
       },
       "h6": {
        "font-family": "Lato"
       },
       "h7": {
        "font-family": "Lato"
       },
       "li": {
        "color": "50f92c45-a630-455b-aec3-788680ec7410",
        "font-size": 3.25
       },
       "pre": {
        "font-family": "Anonymous Pro",
        "font-size": 4
       }
      },
      "text-base": {
       "color": "19cc588f-0593-49c9-9f4b-e4d7cc113b1c",
       "font-family": "Lato",
       "font-size": 4
      }
     }
    }
   }
  }
 },
 "nbformat": 4,
 "nbformat_minor": 1
}
